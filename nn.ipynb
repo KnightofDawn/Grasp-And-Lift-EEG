{
 "cells": [
  {
   "cell_type": "markdown",
   "metadata": {},
   "source": [
    "# Train and predict for all subject"
   ]
  },
  {
   "cell_type": "code",
   "execution_count": 1,
   "metadata": {
    "collapsed": true
   },
   "outputs": [],
   "source": [
    "%matplotlib inline\n",
    "\n",
    "import pandas as pd\n",
    "import numpy as np\n",
    "from sklearn import utils\n",
    "from sklearn.preprocessing import StandardScaler\n",
    "\n",
    "import matplotlib.pyplot as plt"
   ]
  },
  {
   "cell_type": "markdown",
   "metadata": {},
   "source": [
    "* Define all usefull functions:"
   ]
  },
  {
   "cell_type": "code",
   "execution_count": 2,
   "metadata": {
    "collapsed": false
   },
   "outputs": [],
   "source": [
    "def load_train(subject, list_series):\n",
    "    data = []\n",
    "    for se in list_series:\n",
    "        file_name = 'data/train/subj' + str(subject) + \"_series\" + str(se)\n",
    "        \n",
    "        eeg = pd.read_csv(file_name + '_data.csv')\n",
    "        eeg.drop(\"id\", axis = 1, inplace=True)\n",
    "\n",
    "        evt = pd.read_csv(file_name + '_events.csv')\n",
    "        evt.drop(\"id\", axis = 1, inplace=True)\n",
    "        \n",
    "        data.append( pd.concat( [eeg, evt], axis=1 ) )\n",
    "        \n",
    "    all_data = pd.concat( data, ignore_index = True ).values  \n",
    "    return all_data[:, :-6].astype(float), all_data[:, -6:].astype(bool)\n",
    "    "
   ]
  },
  {
   "cell_type": "code",
   "execution_count": 3,
   "metadata": {
    "collapsed": true
   },
   "outputs": [],
   "source": [
    "def target_idx( y, target = None ):\n",
    "    if(target is None) : return target_idx(y, np.zeros(6) )\n",
    "    \n",
    "    assert isinstance(target, (int, list, tuple, np.ndarray ) ), 'wrong type for state'\n",
    "    \n",
    "    if type(target) == int:\n",
    "        return np.argwhere( y[:, target] == 1 )[:,0]\n",
    "    elif isinstance(target, (list, tuple, np.ndarray) ):\n",
    "        return np.argwhere( ( y == np.array( target ) ).all( axis = 1 )  )[:,0]"
   ]
  },
  {
   "cell_type": "code",
   "execution_count": 4,
   "metadata": {
    "collapsed": true
   },
   "outputs": [],
   "source": [
    "def get_windows(X, indices, win_size, sampling):\n",
    "    spl_size = sampling*(win_size//sampling)\n",
    "    \n",
    "    X_win = np.zeros( ( len(indices), win_size//sampling,) + X.shape[1:]  )\n",
    "    for i, end in enumerate(indices):\n",
    "        X_win[i] = X[ end - spl_size + 1 : end+1 : sampling]\n",
    "        \n",
    "    return X_win"
   ]
  },
  {
   "cell_type": "code",
   "execution_count": 5,
   "metadata": {
    "collapsed": true
   },
   "outputs": [],
   "source": [
    "def batch_generator(X, y, win_size, sampling, batch_size):\n",
    "    \n",
    "    categs_idx = []\n",
    "    for c in xrange(7):\n",
    "        if c == 6 : c = None\n",
    "        \n",
    "        categ_idx = target_idx(y, c) \n",
    "        #remove indices < winsize\n",
    "        categ_idx = categ_idx[categ_idx >= win_size-1]\n",
    "        \n",
    "        categs_idx.append( categ_idx ) \n",
    "    \n",
    "    #Total batch size\n",
    "    size = sum( batch_size )\n",
    "    \n",
    "    while True:\n",
    "        y_batch = np.zeros( (size,) + y.shape[1:]  )\n",
    "        X_batch = np.zeros( (size, win_size//sampling,) + X.shape[1:]  )\n",
    "        \n",
    "        batch_start = 0\n",
    "        for i, categ_idx in enumerate(categs_idx):\n",
    "            categ_idx_sample = np.random.choice( categ_idx, batch_size[i], replace = False )\n",
    "            y_sample = y[ categ_idx_sample ]\n",
    "            X_sample = get_windows(X, categ_idx_sample, win_size, sampling)\n",
    "\n",
    "            batch_end = batch_start + batch_size[i]\n",
    "            y_batch[batch_start : batch_end] = y_sample\n",
    "            X_batch[batch_start : batch_end] = X_sample\n",
    "            batch_start = batch_end\n",
    "            \n",
    "        yield X_batch, y_batch"
   ]
  },
  {
   "cell_type": "code",
   "execution_count": 6,
   "metadata": {
    "collapsed": false
   },
   "outputs": [
    {
     "name": "stderr",
     "output_type": "stream",
     "text": [
      "Using Theano backend.\n"
     ]
    }
   ],
   "source": [
    "from keras.models import Sequential\n",
    "from keras.layers import Dense\n",
    "from keras.layers import Flatten\n",
    "from keras.layers import Activation\n",
    "from keras.layers import Dropout\n",
    "from keras.layers.convolutional import Convolution1D\n",
    "from keras.layers.convolutional import AtrousConvolution2D\n",
    "from keras.layers.pooling import MaxPooling2D\n",
    "\n",
    "# (uncalibrated) 0.87593\n",
    "def create_homemade(shape):\n",
    "    end=5\n",
    "    input_signal = Input(shape=shape)\n",
    "    end = Lambda(lambda x: x[:, -end:], output_shape=(end,) + shape[1:])(input_signal)\n",
    "    \n",
    "    c1 = Convolution1D(nb_filter=32 , filter_length=5, subsample_length=1, border_mode='same')(input_signal)\n",
    "    c2 = Convolution1D(nb_filter=8 , filter_length=5, subsample_length=2, border_mode='same')(c1)\n",
    "    c3 = Convolution1D(nb_filter=4 , filter_length=3, subsample_length=2, border_mode='same')(c2)\n",
    "    \n",
    "    flat1 = Flatten()(end)\n",
    "    flat2 = Flatten()(c3)\n",
    "    \n",
    "    merged = merge([flat1, flat2], mode='concat', concat_axis=1)\n",
    "    \n",
    "    dense_1 = Dense(output_dim = 128)(merged)\n",
    "    dense_2 = Dense(output_dim = 6)(dense_1)\n",
    "    output = Activation('sigmoid')(dense_2)\n",
    "    \n",
    "    nn = Model(input=input_signal, output=output)\n",
    "    nn.compile(loss='binary_crossentropy', optimizer='adam')\n",
    "    \n",
    "    return nn\n",
    "\n",
    "# (uncalibrated) 0.87145\n",
    "def create_bilayer(shape):\n",
    "    nn = Sequential()\n",
    "\n",
    "    #Dense output\n",
    "    nn.add( Flatten( input_shape=shape ) )\n",
    "    nn.add( Dense(output_dim = 128 ) )\n",
    "    nn.add( Dense(output_dim = 6 ) )\n",
    "    nn.add( Activation('sigmoid') )\n",
    "    \n",
    "    #Compile\n",
    "    nn.compile(loss='binary_crossentropy', optimizer='adam')\n",
    "    \n",
    "    return nn\n",
    "\n",
    "#only one output layer scores (uncalibrated) 0.84894 !\n",
    "def create_dense(shape):\n",
    "    nn = Sequential()\n",
    "\n",
    "    #Dense output\n",
    "    nn.add( Flatten( input_shape=shape ) )\n",
    "    nn.add( Dense(output_dim = 6 ) )\n",
    "    nn.add( Activation('sigmoid') )\n",
    "    \n",
    "    #Compile\n",
    "    nn.compile(loss='binary_crossentropy', optimizer='adam')\n",
    "    \n",
    "    return nn"
   ]
  },
  {
   "cell_type": "code",
   "execution_count": 7,
   "metadata": {
    "collapsed": true
   },
   "outputs": [],
   "source": [
    "from keras.callbacks import Callback\n",
    "from sklearn.metrics import roc_auc_score\n",
    "\n",
    "class roc_auc_callback(Callback):\n",
    "    def __init__(self, X_test, y_test):\n",
    "        self.X_test = X_test\n",
    "        self.y_test = y_test\n",
    "        \n",
    "    def on_epoch_end(self, epoch, logs={} ):\n",
    "        pred = self.model.predict( self.X_test, batch_size=64 )\n",
    "        logs['val_roc_auc'] = roc_auc_score( self.y_test , pred, average = 'micro' )\n",
    "        print '\\n -', 'val roc auc : ', logs['val_roc_auc']"
   ]
  },
  {
   "cell_type": "code",
   "execution_count": 8,
   "metadata": {
    "collapsed": true
   },
   "outputs": [],
   "source": [
    "from keras.callbacks import EarlyStopping\n",
    "early_stopping = EarlyStopping(monitor='val_roc_auc', min_delta=0, patience=10, verbose=True, mode='max')\n",
    "\n",
    "def train(subject, w, subsampling, batch_size):\n",
    "    X_train, y_train = load_train(subject, xrange(1,8) )\n",
    "    scaler = StandardScaler()\n",
    "    X_train = scaler.fit_transform(X_train)\n",
    "    \n",
    "    X_test, y_test = load_train(subject, [8] )\n",
    "    X_test = scaler.transform(X_test)\n",
    "    X_test, y_test = batch_generator(X_test, y_test, w, subsampling, batch_size ).next()\n",
    "\n",
    "    model = create_bilayer( (w//subsampling, 32) )\n",
    "    gen = batch_generator(X_train, y_train, w, subsampling, batch_size )\n",
    "    fit = model.fit_generator(generator = gen, samples_per_epoch = 50*sum(batch_size), nb_epoch = 50,\n",
    "                              validation_data=(X_test, y_test), verbose=True,\n",
    "                              callbacks=[roc_auc_callback(X_test, y_test), early_stopping ] )\n",
    "    \n",
    "    return scaler, model"
   ]
  },
  {
   "cell_type": "code",
   "execution_count": 9,
   "metadata": {
    "collapsed": false
   },
   "outputs": [],
   "source": [
    "def test_batch_generator(X, win_size, sampling, batch_size):\n",
    "    start = win_size - 1\n",
    "\n",
    "    while True:\n",
    "        end = min( start+batch_size, len(X) )\n",
    "        X_batch = get_windows(X, range(start, end), win_size, sampling)\n",
    "        start = end\n",
    "        \n",
    "        yield X_batch"
   ]
  },
  {
   "cell_type": "code",
   "execution_count": 10,
   "metadata": {
    "collapsed": false
   },
   "outputs": [],
   "source": [
    "columns_names = ['HandStart', 'FirstDigitTouch', 'BothStartLoadPhase', 'LiftOff', 'Replace', 'BothReleased']\n",
    "\n",
    "def predict(subject, serie, win_size, subsampling, scaler, model):\n",
    "    folder = 'train'\n",
    "    if serie>8 : folder = 'test'\n",
    "    file_name = 'data/'+ folder +'/subj' + str(subject) + \"_series\" + str(serie)  \n",
    "    \n",
    "    eeg = pd.read_csv(file_name + '_data.csv')\n",
    "    ids = eeg.loc[:, 'id']\n",
    "    eeg.drop(\"id\", axis = 1, inplace=True)\n",
    "    \n",
    "    X_test = eeg.values.astype(float)\n",
    "    X_test = scaler.transform(X_test)\n",
    "    \n",
    "    pred = np.zeros( (X_test.shape[0], 6) )\n",
    "    \n",
    "    gen = test_batch_generator( X_test, w, subsampling, 64)\n",
    "    pred[win_size-1:] = model.predict_generator( gen, val_samples = X_test.shape[0] - win_size + 1)\n",
    "\n",
    "    result = pd.DataFrame( pred, columns = columns_names )\n",
    "    result.insert(0, 'id', ids)\n",
    "    \n",
    "    return result"
   ]
  },
  {
   "cell_type": "code",
   "execution_count": 11,
   "metadata": {
    "collapsed": true
   },
   "outputs": [],
   "source": [
    "w = 500\n",
    "subsampling = 16\n",
    "\n",
    "batch_size = 20 * np.array( [1, 1, 1, 1, 1, 1, 1] )"
   ]
  },
  {
   "cell_type": "markdown",
   "metadata": {},
   "source": [
    "* Train for all subject:"
   ]
  },
  {
   "cell_type": "code",
   "execution_count": 12,
   "metadata": {
    "collapsed": false
   },
   "outputs": [
    {
     "name": "stdout",
     "output_type": "stream",
     "text": [
      "Training for subject: 1\n",
      "Epoch 1/50\n",
      "6860/7000 [============================>.] - ETA: 0s - loss: 0.5779\n",
      " - val roc auc :  0.873424639918\n",
      "7000/7000 [==============================] - 4s - loss: 0.5755 - val_loss: 0.4272\n",
      "Epoch 2/50\n",
      "6860/7000 [============================>.] - ETA: 0s - loss: 0.4207\n",
      " - val roc auc :  0.894024884259\n",
      "7000/7000 [==============================] - 4s - loss: 0.4210 - val_loss: 0.3790\n",
      "Epoch 3/50\n",
      "6860/7000 [============================>.] - ETA: 0s - loss: 0.3727\n",
      " - val roc auc :  0.919793274177\n",
      "7000/7000 [==============================] - 4s - loss: 0.3722 - val_loss: 0.3250\n",
      "Epoch 4/50\n",
      "6860/7000 [============================>.] - ETA: 0s - loss: 0.3375\n",
      " - val roc auc :  0.938207304527\n",
      "7000/7000 [==============================] - 4s - loss: 0.3364 - val_loss: 0.2884\n",
      "Epoch 5/50\n",
      "6860/7000 [============================>.] - ETA: 0s - loss: 0.2863\n",
      " - val roc auc :  0.952514146091\n",
      "7000/7000 [==============================] - 4s - loss: 0.2862 - val_loss: 0.2612\n",
      "Epoch 6/50\n",
      "6860/7000 [============================>.] - ETA: 0s - loss: 0.2705\n",
      " - val roc auc :  0.960760673868\n",
      "7000/7000 [==============================] - 5s - loss: 0.2708 - val_loss: 0.2283\n",
      "Epoch 7/50\n",
      "6860/7000 [============================>.] - ETA: 0s - loss: 0.2528\n",
      " - val roc auc :  0.961861818416\n",
      "7000/7000 [==============================] - 4s - loss: 0.2528 - val_loss: 0.2206\n",
      "Epoch 8/50\n",
      "6860/7000 [============================>.] - ETA: 0s - loss: 0.2432\n",
      " - val roc auc :  0.96685313786\n",
      "7000/7000 [==============================] - 4s - loss: 0.2438 - val_loss: 0.2049\n",
      "Epoch 9/50\n",
      "6860/7000 [============================>.] - ETA: 0s - loss: 0.2263\n",
      " - val roc auc :  0.970486111111\n",
      "7000/7000 [==============================] - 5s - loss: 0.2261 - val_loss: 0.1921\n",
      "Epoch 10/50\n",
      "6860/7000 [============================>.] - ETA: 0s - loss: 0.2243\n",
      " - val roc auc :  0.967849794239\n",
      "7000/7000 [==============================] - 5s - loss: 0.2241 - val_loss: 0.2005\n",
      "Epoch 11/50\n",
      "6860/7000 [============================>.] - ETA: 0s - loss: 0.2261\n",
      " - val roc auc :  0.965044688786\n",
      "7000/7000 [==============================] - 5s - loss: 0.2258 - val_loss: 0.2135\n",
      "Epoch 12/50\n",
      "6860/7000 [============================>.] - ETA: 0s - loss: 0.2203\n",
      " - val roc auc :  0.972182034465\n",
      "7000/7000 [==============================] - 4s - loss: 0.2195 - val_loss: 0.1822\n",
      "Epoch 13/50\n",
      "6860/7000 [============================>.] - ETA: 0s - loss: 0.2199\n",
      " - val roc auc :  0.971948945473\n",
      "7000/7000 [==============================] - 4s - loss: 0.2198 - val_loss: 0.1841\n",
      "Epoch 14/50\n",
      "6860/7000 [============================>.] - ETA: 0s - loss: 0.2153\n",
      " - val roc auc :  0.963565779321\n",
      "7000/7000 [==============================] - 5s - loss: 0.2152 - val_loss: 0.2032\n",
      "Epoch 15/50\n",
      "6860/7000 [============================>.] - ETA: 0s - loss: 0.2121\n",
      " - val roc auc :  0.971056777263\n",
      "7000/7000 [==============================] - 5s - loss: 0.2119 - val_loss: 0.1859\n",
      "Epoch 16/50\n",
      "6860/7000 [============================>.] - ETA: 0s - loss: 0.2056\n",
      " - val roc auc :  0.967729230967\n",
      "7000/7000 [==============================] - 4s - loss: 0.2061 - val_loss: 0.1976\n",
      "Epoch 17/50\n",
      "6860/7000 [============================>.] - ETA: 0s - loss: 0.2249\n",
      " - val roc auc :  0.96484375\n",
      "7000/7000 [==============================] - 5s - loss: 0.2251 - val_loss: 0.1973\n",
      "Epoch 18/50\n",
      "6860/7000 [============================>.] - ETA: 0s - loss: 0.2089\n",
      " - val roc auc :  0.968034657922\n",
      "7000/7000 [==============================] - 5s - loss: 0.2089 - val_loss: 0.1907\n",
      "Epoch 19/50\n",
      "6860/7000 [============================>.] - ETA: 0s - loss: 0.2187\n",
      " - val roc auc :  0.966700424383\n",
      "7000/7000 [==============================] - 5s - loss: 0.2191 - val_loss: 0.1956\n",
      "Epoch 20/50\n",
      "6860/7000 [============================>.] - ETA: 0s - loss: 0.2024\n",
      " - val roc auc :  0.972624099794\n",
      "7000/7000 [==============================] - 4s - loss: 0.2026 - val_loss: 0.1781\n",
      "Epoch 21/50\n",
      "6860/7000 [============================>.] - ETA: 0s - loss: 0.2032\n",
      " - val roc auc :  0.966186021091\n",
      "7000/7000 [==============================] - 4s - loss: 0.2033 - val_loss: 0.1877\n",
      "Epoch 22/50\n",
      "6860/7000 [============================>.] - ETA: 0s - loss: 0.2084\n",
      " - val roc auc :  0.96478748714\n",
      "7000/7000 [==============================] - 4s - loss: 0.2084 - val_loss: 0.2106\n",
      "Epoch 23/50\n",
      "6860/7000 [============================>.] - ETA: 0s - loss: 0.2127\n",
      " - val roc auc :  0.968958976337\n",
      "7000/7000 [==============================] - 4s - loss: 0.2121 - val_loss: 0.1895\n",
      "Epoch 24/50\n",
      "6860/7000 [============================>.] - ETA: 0s - loss: 0.2095\n",
      " - val roc auc :  0.971129115226\n",
      "7000/7000 [==============================] - 4s - loss: 0.2094 - val_loss: 0.1825\n",
      "Epoch 25/50\n",
      "6860/7000 [============================>.] - ETA: 0s - loss: 0.1977\n",
      " - val roc auc :  0.966177983539\n",
      "7000/7000 [==============================] - 4s - loss: 0.1985 - val_loss: 0.1903\n",
      "Epoch 26/50\n",
      "6860/7000 [============================>.] - ETA: 0s - loss: 0.2079\n",
      " - val roc auc :  0.967552404835\n",
      "7000/7000 [==============================] - 4s - loss: 0.2076 - val_loss: 0.1864\n",
      "Epoch 27/50\n",
      "6860/7000 [============================>.] - ETA: 0s - loss: 0.2051\n",
      " - val roc auc :  0.971611368313\n",
      "7000/7000 [==============================] - 4s - loss: 0.2049 - val_loss: 0.1798\n",
      "Epoch 28/50\n",
      "6860/7000 [============================>.] - ETA: 0s - loss: 0.1995\n",
      " - val roc auc :  0.968283822016\n",
      "7000/7000 [==============================] - 4s - loss: 0.1990 - val_loss: 0.1901\n",
      "Epoch 29/50\n",
      "6860/7000 [============================>.] - ETA: 0s - loss: 0.2014\n",
      " - val roc auc :  0.969682355967\n",
      "7000/7000 [==============================] - 4s - loss: 0.2016 - val_loss: 0.1831\n",
      "Epoch 30/50\n",
      "6860/7000 [============================>.] - ETA: 0s - loss: 0.2042\n",
      " - val roc auc :  0.968878600823\n",
      "7000/7000 [==============================] - 4s - loss: 0.2043 - val_loss: 0.1836\n",
      "Epoch 31/50\n",
      "6860/7000 [============================>.] - ETA: 0s - loss: 0.1995\n",
      " - val roc auc :  0.968171296296\n",
      "7000/7000 [==============================] - 4s - loss: 0.1990 - val_loss: 0.1906\n",
      "Epoch 00030: early stopping\n",
      "Training for subject: 2\n",
      "Epoch 1/50\n",
      " 420/7000 [>.............................] - ETA: 6s - loss: 0.8682"
     ]
    },
    {
     "name": "stderr",
     "output_type": "stream",
     "text": [
      "/usr/local/lib/python2.7/dist-packages/keras/callbacks.py:70: UserWarning: Method on_batch_end() is slow compared to the batch update (0.109389). Check your callbacks.\n",
      "  % delta_t_median)\n"
     ]
    },
    {
     "name": "stdout",
     "output_type": "stream",
     "text": [
      "3220/7000 [============>.................] - ETA: 4s - loss: 0.6884"
     ]
    },
    {
     "name": "stderr",
     "output_type": "stream",
     "text": [
      "/usr/local/lib/python2.7/dist-packages/keras/callbacks.py:70: UserWarning: Method on_batch_end() is slow compared to the batch update (0.136755). Check your callbacks.\n",
      "  % delta_t_median)\n"
     ]
    },
    {
     "name": "stdout",
     "output_type": "stream",
     "text": [
      "3500/7000 [==============>...............] - ETA: 4s - loss: 0.6806"
     ]
    },
    {
     "name": "stderr",
     "output_type": "stream",
     "text": [
      "/usr/local/lib/python2.7/dist-packages/keras/callbacks.py:70: UserWarning: Method on_batch_end() is slow compared to the batch update (0.138826). Check your callbacks.\n",
      "  % delta_t_median)\n"
     ]
    },
    {
     "name": "stdout",
     "output_type": "stream",
     "text": [
      "6860/7000 [============================>.] - ETA: 0s - loss: 0.6211\n",
      " - val roc auc :  0.784865820375\n",
      "7000/7000 [==============================] - 7s - loss: 0.6189 - val_loss: 0.4505\n",
      "Epoch 2/50\n",
      "6860/7000 [============================>.] - ETA: 0s - loss: 0.5011\n",
      " - val roc auc :  0.807253372702\n",
      "7000/7000 [==============================] - 5s - loss: 0.5005 - val_loss: 0.4413\n",
      "Epoch 3/50\n",
      "6860/7000 [============================>.] - ETA: 0s - loss: 0.4424\n",
      " - val roc auc :  0.822560436679\n",
      "7000/7000 [==============================] - 5s - loss: 0.4420 - val_loss: 0.4195\n",
      "Epoch 4/50\n",
      "6860/7000 [============================>.] - ETA: 0s - loss: 0.3888\n",
      " - val roc auc :  0.835711302557\n",
      "7000/7000 [==============================] - 5s - loss: 0.3879 - val_loss: 0.3522\n",
      "Epoch 5/50\n",
      "6860/7000 [============================>.] - ETA: 0s - loss: 0.3611\n",
      " - val roc auc :  0.831680571878\n",
      "7000/7000 [==============================] - 5s - loss: 0.3607 - val_loss: 0.3586\n",
      "Epoch 6/50\n",
      "6860/7000 [============================>.] - ETA: 0s - loss: 0.3414\n",
      " - val roc auc :  0.862187861187\n",
      "7000/7000 [==============================] - 5s - loss: 0.3413 - val_loss: 0.3385\n",
      "Epoch 7/50\n",
      "6860/7000 [============================>.] - ETA: 0s - loss: 0.3340\n",
      " - val roc auc :  0.878174807448\n",
      "7000/7000 [==============================] - 5s - loss: 0.3339 - val_loss: 0.3038\n",
      "Epoch 8/50\n",
      "5040/7000 [====================>.........] - ETA: 1s - loss: 0.3388"
     ]
    },
    {
     "name": "stderr",
     "output_type": "stream",
     "text": [
      "/usr/local/lib/python2.7/dist-packages/keras/callbacks.py:70: UserWarning: Method on_batch_end() is slow compared to the batch update (0.101048). Check your callbacks.\n",
      "  % delta_t_median)\n"
     ]
    },
    {
     "name": "stdout",
     "output_type": "stream",
     "text": [
      "6860/7000 [============================>.] - ETA: 0s - loss: 0.3395\n",
      " - val roc auc :  0.873201954176\n",
      "7000/7000 [==============================] - 6s - loss: 0.3394 - val_loss: 0.3129\n",
      "Epoch 9/50\n",
      " 280/7000 [>.............................] - ETA: 4s - loss: 0.3100"
     ]
    },
    {
     "name": "stderr",
     "output_type": "stream",
     "text": [
      "/usr/local/lib/python2.7/dist-packages/keras/callbacks.py:70: UserWarning: Method on_batch_end() is slow compared to the batch update (0.121544). Check your callbacks.\n",
      "  % delta_t_median)\n",
      "/usr/local/lib/python2.7/dist-packages/keras/callbacks.py:70: UserWarning: Method on_batch_end() is slow compared to the batch update (0.129390). Check your callbacks.\n",
      "  % delta_t_median)\n"
     ]
    },
    {
     "name": "stdout",
     "output_type": "stream",
     "text": [
      "2380/7000 [=========>....................] - ETA: 4s - loss: 0.3320"
     ]
    },
    {
     "name": "stderr",
     "output_type": "stream",
     "text": [
      "/usr/local/lib/python2.7/dist-packages/keras/callbacks.py:70: UserWarning: Method on_batch_end() is slow compared to the batch update (0.102453). Check your callbacks.\n",
      "  % delta_t_median)\n"
     ]
    },
    {
     "name": "stdout",
     "output_type": "stream",
     "text": [
      "6860/7000 [============================>.] - ETA: 0s - loss: 0.3336\n",
      " - val roc auc :  0.879621985451\n",
      "7000/7000 [==============================] - 6s - loss: 0.3328 - val_loss: 0.3269\n",
      "Epoch 10/50\n",
      " 420/7000 [>.............................] - ETA: 4s - loss: 0.3438"
     ]
    },
    {
     "name": "stderr",
     "output_type": "stream",
     "text": [
      "/usr/local/lib/python2.7/dist-packages/keras/callbacks.py:70: UserWarning: Method on_batch_end() is slow compared to the batch update (0.114021). Check your callbacks.\n",
      "  % delta_t_median)\n",
      "/usr/local/lib/python2.7/dist-packages/keras/callbacks.py:70: UserWarning: Method on_batch_end() is slow compared to the batch update (0.107423). Check your callbacks.\n",
      "  % delta_t_median)\n",
      "/usr/local/lib/python2.7/dist-packages/keras/callbacks.py:70: UserWarning: Method on_batch_end() is slow compared to the batch update (0.100825). Check your callbacks.\n",
      "  % delta_t_median)\n"
     ]
    },
    {
     "name": "stdout",
     "output_type": "stream",
     "text": [
      "6300/7000 [==========================>...] - ETA: 0s - loss: 0.3253"
     ]
    },
    {
     "name": "stderr",
     "output_type": "stream",
     "text": [
      "/usr/local/lib/python2.7/dist-packages/keras/callbacks.py:70: UserWarning: Method on_batch_end() is slow compared to the batch update (0.101831). Check your callbacks.\n",
      "  % delta_t_median)\n",
      "/usr/local/lib/python2.7/dist-packages/keras/callbacks.py:70: UserWarning: Method on_batch_end() is slow compared to the batch update (0.104400). Check your callbacks.\n",
      "  % delta_t_median)\n"
     ]
    },
    {
     "name": "stdout",
     "output_type": "stream",
     "text": [
      "6860/7000 [============================>.] - ETA: 0s - loss: 0.3255\n",
      " - val roc auc :  0.880059052633\n",
      "7000/7000 [==============================] - 6s - loss: 0.3246 - val_loss: 0.3106\n",
      "Epoch 11/50\n",
      "1120/7000 [===>..........................] - ETA: 5s - loss: 0.3291"
     ]
    },
    {
     "name": "stderr",
     "output_type": "stream",
     "text": [
      "/usr/local/lib/python2.7/dist-packages/keras/callbacks.py:70: UserWarning: Method on_batch_end() is slow compared to the batch update (0.104643). Check your callbacks.\n",
      "  % delta_t_median)\n"
     ]
    },
    {
     "name": "stdout",
     "output_type": "stream",
     "text": [
      "4900/7000 [====================>.........] - ETA: 1s - loss: 0.3204\b\b\b\b\b\b\b\b\b\b\b\b\b\b\b\b\b\b\b\b\b\b\b\b\b\b\b\b\b\b\b\b\b\b\b\b\b\b\b\b\b\b\b\b\b\b\b\b\b\b\b\b\b\b\b\b\b\b\b\b\b\b\b\b\b\b\b"
     ]
    },
    {
     "name": "stderr",
     "output_type": "stream",
     "text": [
      "/usr/local/lib/python2.7/dist-packages/keras/callbacks.py:70: UserWarning: Method on_batch_end() is slow compared to the batch update (0.108369). Check your callbacks.\n",
      "  % delta_t_median)\n"
     ]
    },
    {
     "name": "stdout",
     "output_type": "stream",
     "text": [
      "5320/7000 [=====================>........] - ETA: 1s - loss: 0.3226"
     ]
    },
    {
     "name": "stderr",
     "output_type": "stream",
     "text": [
      "/usr/local/lib/python2.7/dist-packages/keras/callbacks.py:70: UserWarning: Method on_batch_end() is slow compared to the batch update (0.111804). Check your callbacks.\n",
      "  % delta_t_median)\n"
     ]
    },
    {
     "name": "stdout",
     "output_type": "stream",
     "text": [
      "5740/7000 [=======================>......] - ETA: 1s - loss: 0.3211"
     ]
    },
    {
     "name": "stderr",
     "output_type": "stream",
     "text": [
      "/usr/local/lib/python2.7/dist-packages/keras/callbacks.py:70: UserWarning: Method on_batch_end() is slow compared to the batch update (0.113054). Check your callbacks.\n",
      "  % delta_t_median)\n",
      "/usr/local/lib/python2.7/dist-packages/keras/callbacks.py:70: UserWarning: Method on_batch_end() is slow compared to the batch update (0.113979). Check your callbacks.\n",
      "  % delta_t_median)\n"
     ]
    },
    {
     "name": "stdout",
     "output_type": "stream",
     "text": [
      "6860/7000 [============================>.] - ETA: 0s - loss: 0.3219"
     ]
    },
    {
     "name": "stderr",
     "output_type": "stream",
     "text": [
      "/usr/local/lib/python2.7/dist-packages/keras/callbacks.py:70: UserWarning: Method on_batch_end() is slow compared to the batch update (0.118764). Check your callbacks.\n",
      "  % delta_t_median)\n"
     ]
    },
    {
     "name": "stdout",
     "output_type": "stream",
     "text": [
      "\n",
      " - val roc auc :  0.860983498286\n",
      "7000/7000 [==============================] - 7s - loss: 0.3224 - val_loss: 0.3172\n",
      "Epoch 12/50\n",
      "6860/7000 [============================>.] - ETA: 0s - loss: 0.3221\n",
      " - val roc auc :  0.869307199953\n",
      "7000/7000 [==============================] - 6s - loss: 0.3222 - val_loss: 0.3113\n",
      "Epoch 13/50\n",
      " 700/7000 [==>...........................] - ETA: 5s - loss: 0.3184\b\b\b\b\b\b\b\b\b\b\b\b\b\b\b\b\b\b\b\b\b\b\b\b\b\b\b\b\b\b\b\b\b\b\b\b\b\b\b\b\b\b\b\b\b\b\b\b\b\b\b\b\b\b\b\b\b\b\b\b\b\b\b\b\b\b\b"
     ]
    },
    {
     "name": "stderr",
     "output_type": "stream",
     "text": [
      "/usr/local/lib/python2.7/dist-packages/keras/callbacks.py:70: UserWarning: Method on_batch_end() is slow compared to the batch update (0.101681). Check your callbacks.\n",
      "  % delta_t_median)\n"
     ]
    },
    {
     "name": "stdout",
     "output_type": "stream",
     "text": [
      "6860/7000 [============================>.] - ETA: 0s - loss: 0.3259\n",
      " - val roc auc :  0.88034071815\n",
      "7000/7000 [==============================] - 5s - loss: 0.3251 - val_loss: 0.3052\n",
      "Epoch 14/50\n",
      "4200/7000 [=================>............] - ETA: 2s - loss: 0.3191"
     ]
    },
    {
     "name": "stderr",
     "output_type": "stream",
     "text": [
      "/usr/local/lib/python2.7/dist-packages/keras/callbacks.py:70: UserWarning: Method on_batch_end() is slow compared to the batch update (0.100109). Check your callbacks.\n",
      "  % delta_t_median)\n"
     ]
    },
    {
     "name": "stdout",
     "output_type": "stream",
     "text": [
      "4620/7000 [==================>...........] - ETA: 2s - loss: 0.3193"
     ]
    },
    {
     "name": "stderr",
     "output_type": "stream",
     "text": [
      "/usr/local/lib/python2.7/dist-packages/keras/callbacks.py:70: UserWarning: Method on_batch_end() is slow compared to the batch update (0.100235). Check your callbacks.\n",
      "  % delta_t_median)\n"
     ]
    },
    {
     "name": "stdout",
     "output_type": "stream",
     "text": [
      "6860/7000 [============================>.] - ETA: 0s - loss: 0.3205\n",
      " - val roc auc :  0.871201157742\n",
      "7000/7000 [==============================] - 6s - loss: 0.3204 - val_loss: 0.3124\n",
      "Epoch 15/50\n",
      " 700/7000 [==>...........................] - ETA: 6s - loss: 0.3109"
     ]
    },
    {
     "name": "stderr",
     "output_type": "stream",
     "text": [
      "/usr/local/lib/python2.7/dist-packages/keras/callbacks.py:70: UserWarning: Method on_batch_end() is slow compared to the batch update (0.103907). Check your callbacks.\n",
      "  % delta_t_median)\n",
      "/usr/local/lib/python2.7/dist-packages/keras/callbacks.py:70: UserWarning: Method on_batch_end() is slow compared to the batch update (0.113493). Check your callbacks.\n",
      "  % delta_t_median)\n"
     ]
    },
    {
     "name": "stdout",
     "output_type": "stream",
     "text": [
      "6860/7000 [============================>.] - ETA: 0s - loss: 0.3132\n",
      " - val roc auc :  0.87539700269\n",
      "7000/7000 [==============================] - 6s - loss: 0.3133 - val_loss: 0.2991\n",
      "Epoch 16/50\n",
      " 420/7000 [>.............................] - ETA: 4s - loss: 0.3120"
     ]
    },
    {
     "name": "stderr",
     "output_type": "stream",
     "text": [
      "/usr/local/lib/python2.7/dist-packages/keras/callbacks.py:70: UserWarning: Method on_batch_end() is slow compared to the batch update (0.111389). Check your callbacks.\n",
      "  % delta_t_median)\n"
     ]
    },
    {
     "name": "stdout",
     "output_type": "stream",
     "text": [
      "6860/7000 [============================>.] - ETA: 0s - loss: 0.3151\n",
      " - val roc auc :  0.850659000185\n",
      "7000/7000 [==============================] - 6s - loss: 0.3148 - val_loss: 0.3422\n",
      "Epoch 17/50\n",
      "1820/7000 [======>.......................] - ETA: 4s - loss: 0.3185"
     ]
    },
    {
     "name": "stderr",
     "output_type": "stream",
     "text": [
      "/usr/local/lib/python2.7/dist-packages/keras/callbacks.py:70: UserWarning: Method on_batch_end() is slow compared to the batch update (0.106815). Check your callbacks.\n",
      "  % delta_t_median)\n",
      "/usr/local/lib/python2.7/dist-packages/keras/callbacks.py:70: UserWarning: Method on_batch_end() is slow compared to the batch update (0.109557). Check your callbacks.\n",
      "  % delta_t_median)\n"
     ]
    },
    {
     "name": "stdout",
     "output_type": "stream",
     "text": [
      "2380/7000 [=========>....................] - ETA: 4s - loss: 0.3192"
     ]
    },
    {
     "name": "stderr",
     "output_type": "stream",
     "text": [
      "/usr/local/lib/python2.7/dist-packages/keras/callbacks.py:70: UserWarning: Method on_batch_end() is slow compared to the batch update (0.111946). Check your callbacks.\n",
      "  % delta_t_median)\n",
      "/usr/local/lib/python2.7/dist-packages/keras/callbacks.py:70: UserWarning: Method on_batch_end() is slow compared to the batch update (0.114145). Check your callbacks.\n",
      "  % delta_t_median)\n"
     ]
    },
    {
     "name": "stdout",
     "output_type": "stream",
     "text": [
      "2800/7000 [===========>..................] - ETA: 3s - loss: 0.3186"
     ]
    },
    {
     "name": "stderr",
     "output_type": "stream",
     "text": [
      "/usr/local/lib/python2.7/dist-packages/keras/callbacks.py:70: UserWarning: Method on_batch_end() is slow compared to the batch update (0.115906). Check your callbacks.\n",
      "  % delta_t_median)\n",
      "/usr/local/lib/python2.7/dist-packages/keras/callbacks.py:70: UserWarning: Method on_batch_end() is slow compared to the batch update (0.110092). Check your callbacks.\n",
      "  % delta_t_median)\n"
     ]
    },
    {
     "name": "stdout",
     "output_type": "stream",
     "text": [
      "2940/7000 [===========>..................] - ETA: 3s - loss: 0.3177\b\b\b\b\b\b\b\b\b\b\b\b\b\b\b\b\b\b\b\b\b\b\b\b\b\b\b\b\b\b\b\b\b\b\b\b\b\b\b\b\b\b\b\b\b\b\b\b\b\b\b\b\b\b\b\b\b\b\b\b\b\b\b\b\b\b\b"
     ]
    },
    {
     "name": "stderr",
     "output_type": "stream",
     "text": [
      "/usr/local/lib/python2.7/dist-packages/keras/callbacks.py:70: UserWarning: Method on_batch_end() is slow compared to the batch update (0.100088). Check your callbacks.\n",
      "  % delta_t_median)\n"
     ]
    },
    {
     "name": "stdout",
     "output_type": "stream",
     "text": [
      "6860/7000 [============================>.] - ETA: 0s - loss: 0.3173\n",
      " - val roc auc :  0.863625326586\n",
      "7000/7000 [==============================] - 6s - loss: 0.3171 - val_loss: 0.3224\n",
      "Epoch 18/50\n",
      "6720/7000 [===========================>..] - ETA: 0s - loss: 0.3212"
     ]
    },
    {
     "name": "stderr",
     "output_type": "stream",
     "text": [
      "/usr/local/lib/python2.7/dist-packages/keras/callbacks.py:70: UserWarning: Method on_batch_end() is slow compared to the batch update (0.100175). Check your callbacks.\n",
      "  % delta_t_median)\n"
     ]
    },
    {
     "name": "stdout",
     "output_type": "stream",
     "text": [
      "6860/7000 [============================>.] - ETA: 0s - loss: 0.3206\n",
      " - val roc auc :  0.894025777251\n",
      "7000/7000 [==============================] - 6s - loss: 0.3209 - val_loss: 0.3014\n",
      "Epoch 19/50\n",
      " 280/7000 [>.............................] - ETA: 7s - loss: 0.3099\b\b\b\b\b\b\b\b\b\b\b\b\b\b\b\b\b\b\b\b\b\b\b\b\b\b\b\b\b\b\b\b\b\b\b\b\b\b\b\b\b\b\b\b\b\b\b\b\b\b\b\b\b\b\b\b\b\b\b\b\b\b\b\b\b\b\b"
     ]
    },
    {
     "name": "stderr",
     "output_type": "stream",
     "text": [
      "/usr/local/lib/python2.7/dist-packages/keras/callbacks.py:70: UserWarning: Method on_batch_end() is slow compared to the batch update (0.136274). Check your callbacks.\n",
      "  % delta_t_median)\n"
     ]
    },
    {
     "name": "stdout",
     "output_type": "stream",
     "text": [
      " 560/7000 [=>............................] - ETA: 8s - loss: 0.3244"
     ]
    },
    {
     "name": "stderr",
     "output_type": "stream",
     "text": [
      "/usr/local/lib/python2.7/dist-packages/keras/callbacks.py:70: UserWarning: Method on_batch_end() is slow compared to the batch update (0.104388). Check your callbacks.\n",
      "  % delta_t_median)\n"
     ]
    },
    {
     "name": "stdout",
     "output_type": "stream",
     "text": [
      "2660/7000 [==========>...................] - ETA: 5s - loss: 0.3190"
     ]
    },
    {
     "name": "stderr",
     "output_type": "stream",
     "text": [
      "/usr/local/lib/python2.7/dist-packages/keras/callbacks.py:70: UserWarning: Method on_batch_end() is slow compared to the batch update (0.123770). Check your callbacks.\n",
      "  % delta_t_median)\n"
     ]
    },
    {
     "name": "stdout",
     "output_type": "stream",
     "text": [
      "3080/7000 [============>.................] - ETA: 4s - loss: 0.3201"
     ]
    },
    {
     "name": "stderr",
     "output_type": "stream",
     "text": [
      "/usr/local/lib/python2.7/dist-packages/keras/callbacks.py:70: UserWarning: Method on_batch_end() is slow compared to the batch update (0.107531). Check your callbacks.\n",
      "  % delta_t_median)\n"
     ]
    },
    {
     "name": "stdout",
     "output_type": "stream",
     "text": [
      "6580/7000 [===========================>..] - ETA: 0s - loss: 0.3193"
     ]
    },
    {
     "name": "stderr",
     "output_type": "stream",
     "text": [
      "/usr/local/lib/python2.7/dist-packages/keras/callbacks.py:70: UserWarning: Method on_batch_end() is slow compared to the batch update (0.100353). Check your callbacks.\n",
      "  % delta_t_median)\n"
     ]
    },
    {
     "name": "stdout",
     "output_type": "stream",
     "text": [
      "6860/7000 [============================>.] - ETA: 0s - loss: 0.3189\n",
      " - val roc auc :  0.894676521722\n",
      "7000/7000 [==============================] - 7s - loss: 0.3187 - val_loss: 0.2946\n",
      "Epoch 20/50\n",
      " 700/7000 [==>...........................] - ETA: 5s - loss: 0.3223"
     ]
    },
    {
     "name": "stderr",
     "output_type": "stream",
     "text": [
      "/usr/local/lib/python2.7/dist-packages/keras/callbacks.py:70: UserWarning: Method on_batch_end() is slow compared to the batch update (0.100622). Check your callbacks.\n",
      "  % delta_t_median)\n"
     ]
    },
    {
     "name": "stdout",
     "output_type": "stream",
     "text": [
      "6860/7000 [============================>.] - ETA: 0s - loss: 0.3116\n",
      " - val roc auc :  0.880466982003\n",
      "7000/7000 [==============================] - 6s - loss: 0.3116 - val_loss: 0.2989\n",
      "Epoch 21/50\n",
      "1680/7000 [======>.......................] - ETA: 5s - loss: 0.3056\b\b\b\b\b\b\b\b\b\b\b\b\b\b\b\b\b\b\b\b\b\b\b\b\b\b\b\b\b\b\b\b\b\b\b\b\b\b\b\b\b\b\b\b\b\b\b\b\b\b\b\b\b\b\b\b\b\b\b\b\b\b\b\b\b\b\b"
     ]
    },
    {
     "name": "stderr",
     "output_type": "stream",
     "text": [
      "/usr/local/lib/python2.7/dist-packages/keras/callbacks.py:70: UserWarning: Method on_batch_end() is slow compared to the batch update (0.108850). Check your callbacks.\n",
      "  % delta_t_median)\n"
     ]
    },
    {
     "name": "stdout",
     "output_type": "stream",
     "text": [
      "2100/7000 [========>.....................] - ETA: 4s - loss: 0.3025"
     ]
    },
    {
     "name": "stderr",
     "output_type": "stream",
     "text": [
      "/usr/local/lib/python2.7/dist-packages/keras/callbacks.py:70: UserWarning: Method on_batch_end() is slow compared to the batch update (0.121869). Check your callbacks.\n",
      "  % delta_t_median)\n"
     ]
    },
    {
     "name": "stdout",
     "output_type": "stream",
     "text": [
      "6860/7000 [============================>.] - ETA: 0s - loss: 0.3084\n",
      " - val roc auc :  0.860798958809\n",
      "7000/7000 [==============================] - 6s - loss: 0.3085 - val_loss: 0.3237\n",
      "Epoch 22/50\n",
      " 560/7000 [=>............................] - ETA: 4s - loss: 0.3086"
     ]
    },
    {
     "name": "stderr",
     "output_type": "stream",
     "text": [
      "/usr/local/lib/python2.7/dist-packages/keras/callbacks.py:70: UserWarning: Method on_batch_end() is slow compared to the batch update (0.106079). Check your callbacks.\n",
      "  % delta_t_median)\n"
     ]
    },
    {
     "name": "stdout",
     "output_type": "stream",
     "text": [
      "6860/7000 [============================>.] - ETA: 0s - loss: 0.3094\n",
      " - val roc auc :  0.88507075632\n",
      "7000/7000 [==============================] - 6s - loss: 0.3099 - val_loss: 0.3073\n",
      "Epoch 23/50\n",
      " 840/7000 [==>...........................] - ETA: 5s - loss: 0.3241"
     ]
    },
    {
     "name": "stderr",
     "output_type": "stream",
     "text": [
      "/usr/local/lib/python2.7/dist-packages/keras/callbacks.py:70: UserWarning: Method on_batch_end() is slow compared to the batch update (0.102884). Check your callbacks.\n",
      "  % delta_t_median)\n"
     ]
    },
    {
     "name": "stdout",
     "output_type": "stream",
     "text": [
      "3640/7000 [==============>...............] - ETA: 3s - loss: 0.3150"
     ]
    },
    {
     "name": "stderr",
     "output_type": "stream",
     "text": [
      "/usr/local/lib/python2.7/dist-packages/keras/callbacks.py:70: UserWarning: Method on_batch_end() is slow compared to the batch update (0.115760). Check your callbacks.\n",
      "  % delta_t_median)\n"
     ]
    },
    {
     "name": "stdout",
     "output_type": "stream",
     "text": [
      "3920/7000 [===============>..............] - ETA: 3s - loss: 0.3146"
     ]
    },
    {
     "name": "stderr",
     "output_type": "stream",
     "text": [
      "/usr/local/lib/python2.7/dist-packages/keras/callbacks.py:70: UserWarning: Method on_batch_end() is slow compared to the batch update (0.112034). Check your callbacks.\n",
      "  % delta_t_median)\n",
      "/usr/local/lib/python2.7/dist-packages/keras/callbacks.py:70: UserWarning: Method on_batch_end() is slow compared to the batch update (0.115710). Check your callbacks.\n",
      "  % delta_t_median)\n"
     ]
    },
    {
     "name": "stdout",
     "output_type": "stream",
     "text": [
      "4620/7000 [==================>...........] - ETA: 2s - loss: 0.3136"
     ]
    },
    {
     "name": "stderr",
     "output_type": "stream",
     "text": [
      "/usr/local/lib/python2.7/dist-packages/keras/callbacks.py:70: UserWarning: Method on_batch_end() is slow compared to the batch update (0.109569). Check your callbacks.\n",
      "  % delta_t_median)\n"
     ]
    },
    {
     "name": "stdout",
     "output_type": "stream",
     "text": [
      "4900/7000 [====================>.........] - ETA: 2s - loss: 0.3135"
     ]
    },
    {
     "name": "stderr",
     "output_type": "stream",
     "text": [
      "/usr/local/lib/python2.7/dist-packages/keras/callbacks.py:70: UserWarning: Method on_batch_end() is slow compared to the batch update (0.106513). Check your callbacks.\n",
      "  % delta_t_median)\n"
     ]
    },
    {
     "name": "stdout",
     "output_type": "stream",
     "text": [
      "6860/7000 [============================>.] - ETA: 0s - loss: 0.3123\n",
      " - val roc auc :  0.87580493206\n",
      "7000/7000 [==============================] - 7s - loss: 0.3128 - val_loss: 0.3097\n",
      "Epoch 24/50\n",
      "6860/7000 [============================>.] - ETA: 0s - loss: 0.3099\n",
      " - val roc auc :  0.873959537292\n",
      "7000/7000 [==============================] - 6s - loss: 0.3110 - val_loss: 0.3086\n",
      "Epoch 25/50\n",
      "6860/7000 [============================>.] - ETA: 0s - loss: 0.3056\n",
      " - val roc auc :  0.897881681058\n",
      "7000/7000 [==============================] - 6s - loss: 0.3058 - val_loss: 0.2794\n",
      "Epoch 26/50\n",
      " 280/7000 [>.............................] - ETA: 5s - loss: 0.2988"
     ]
    },
    {
     "name": "stderr",
     "output_type": "stream",
     "text": [
      "/usr/local/lib/python2.7/dist-packages/keras/callbacks.py:70: UserWarning: Method on_batch_end() is slow compared to the batch update (0.108751). Check your callbacks.\n",
      "  % delta_t_median)\n"
     ]
    },
    {
     "name": "stdout",
     "output_type": "stream",
     "text": [
      "6860/7000 [============================>.] - ETA: 0s - loss: 0.3106\n",
      " - val roc auc :  0.879796812323\n",
      "7000/7000 [==============================] - 5s - loss: 0.3101 - val_loss: 0.3025\n",
      "Epoch 27/50\n",
      "6860/7000 [============================>.] - ETA: 0s - loss: 0.3099\n",
      " - val roc auc :  0.884847366427\n",
      "7000/7000 [==============================] - 5s - loss: 0.3107 - val_loss: 0.2998\n",
      "Epoch 28/50\n",
      "6860/7000 [============================>.] - ETA: 0s - loss: 0.3020\n",
      " - val roc auc :  0.880651521479\n",
      "7000/7000 [==============================] - 6s - loss: 0.3026 - val_loss: 0.3077\n",
      "Epoch 29/50\n",
      " 420/7000 [>.............................] - ETA: 3s - loss: 0.3070"
     ]
    },
    {
     "name": "stderr",
     "output_type": "stream",
     "text": [
      "/usr/local/lib/python2.7/dist-packages/keras/callbacks.py:70: UserWarning: Method on_batch_end() is slow compared to the batch update (0.101769). Check your callbacks.\n",
      "  % delta_t_median)\n"
     ]
    },
    {
     "name": "stdout",
     "output_type": "stream",
     "text": [
      "6860/7000 [============================>.] - ETA: 0s - loss: 0.3059\n",
      " - val roc auc :  0.896016861081\n",
      "7000/7000 [==============================] - 5s - loss: 0.3053 - val_loss: 0.2933\n",
      "Epoch 30/50\n",
      "6860/7000 [============================>.] - ETA: 0s - loss: 0.3022\n",
      " - val roc auc :  0.885323284026\n",
      "7000/7000 [==============================] - 5s - loss: 0.3022 - val_loss: 0.2983\n",
      "Epoch 31/50\n",
      "6860/7000 [============================>.] - ETA: 0s - loss: 0.3085\n",
      " - val roc auc :  0.868131974864\n",
      "7000/7000 [==============================] - 5s - loss: 0.3087 - val_loss: 0.3152\n",
      "Epoch 32/50\n",
      " 280/7000 [>.............................] - ETA: 3s - loss: 0.3015"
     ]
    },
    {
     "name": "stderr",
     "output_type": "stream",
     "text": [
      "/usr/local/lib/python2.7/dist-packages/keras/callbacks.py:70: UserWarning: Method on_batch_end() is slow compared to the batch update (0.100581). Check your callbacks.\n",
      "  % delta_t_median)\n"
     ]
    },
    {
     "name": "stdout",
     "output_type": "stream",
     "text": [
      "6860/7000 [============================>.] - ETA: 0s - loss: 0.3107\n",
      " - val roc auc :  0.889897920531\n",
      "7000/7000 [==============================] - 5s - loss: 0.3106 - val_loss: 0.2906\n",
      "Epoch 33/50\n",
      "6860/7000 [============================>.] - ETA: 0s - loss: 0.3095\n",
      " - val roc auc :  0.890859468332\n",
      "7000/7000 [==============================] - 5s - loss: 0.3091 - val_loss: 0.2944\n",
      "Epoch 34/50\n",
      " 420/7000 [>.............................] - ETA: 4s - loss: 0.3231"
     ]
    },
    {
     "name": "stderr",
     "output_type": "stream",
     "text": [
      "/usr/local/lib/python2.7/dist-packages/keras/callbacks.py:70: UserWarning: Method on_batch_end() is slow compared to the batch update (0.102706). Check your callbacks.\n",
      "  % delta_t_median)\n",
      "/usr/local/lib/python2.7/dist-packages/keras/callbacks.py:70: UserWarning: Method on_batch_end() is slow compared to the batch update (0.120682). Check your callbacks.\n",
      "  % delta_t_median)\n"
     ]
    },
    {
     "name": "stdout",
     "output_type": "stream",
     "text": [
      " 840/7000 [==>...........................] - ETA: 4s - loss: 0.3255"
     ]
    },
    {
     "name": "stderr",
     "output_type": "stream",
     "text": [
      "/usr/local/lib/python2.7/dist-packages/keras/callbacks.py:70: UserWarning: Method on_batch_end() is slow compared to the batch update (0.100498). Check your callbacks.\n",
      "  % delta_t_median)\n"
     ]
    },
    {
     "name": "stdout",
     "output_type": "stream",
     "text": [
      "6860/7000 [============================>.] - ETA: 0s - loss: 0.3044\n",
      " - val roc auc :  0.881554793656\n",
      "7000/7000 [==============================] - 5s - loss: 0.3041 - val_loss: 0.3007\n",
      "Epoch 35/50\n",
      "6860/7000 [============================>.] - ETA: 0s - loss: 0.3016\n",
      " - val roc auc :  0.899377422081\n",
      "7000/7000 [==============================] - 5s - loss: 0.3016 - val_loss: 0.2907\n",
      "Epoch 36/50\n",
      "6860/7000 [============================>.] - ETA: 0s - loss: 0.3035\n",
      " - val roc auc :  0.896502491283\n",
      "7000/7000 [==============================] - 5s - loss: 0.3028 - val_loss: 0.2883\n",
      "Epoch 37/50\n",
      "6860/7000 [============================>.] - ETA: 0s - loss: 0.3027\n",
      " - val roc auc :  0.882807719578\n",
      "7000/7000 [==============================] - 6s - loss: 0.3019 - val_loss: 0.2969\n",
      "Epoch 38/50\n",
      "6860/7000 [============================>.] - ETA: 0s - loss: 0.3019\n",
      " - val roc auc :  0.888169077011\n",
      "7000/7000 [==============================] - 5s - loss: 0.3022 - val_loss: 0.2993\n",
      "Epoch 39/50\n",
      "6860/7000 [============================>.] - ETA: 0s - loss: 0.3001\n",
      " - val roc auc :  0.866218591867\n",
      "7000/7000 [==============================] - 5s - loss: 0.3004 - val_loss: 0.3234\n",
      "Epoch 40/50\n",
      "4340/7000 [=================>............] - ETA: 2s - loss: 0.3049"
     ]
    },
    {
     "name": "stderr",
     "output_type": "stream",
     "text": [
      "/usr/local/lib/python2.7/dist-packages/keras/callbacks.py:70: UserWarning: Method on_batch_end() is slow compared to the batch update (0.103995). Check your callbacks.\n",
      "  % delta_t_median)\n"
     ]
    },
    {
     "name": "stdout",
     "output_type": "stream",
     "text": [
      "6860/7000 [============================>.] - ETA: 0s - loss: 0.3022\n",
      " - val roc auc :  0.879592847638\n",
      "7000/7000 [==============================] - 6s - loss: 0.3019 - val_loss: 0.3161\n",
      "Epoch 41/50\n",
      "6860/7000 [============================>.] - ETA: 0s - loss: 0.3066\n",
      " - val roc auc :  0.882254101147\n",
      "7000/7000 [==============================] - 5s - loss: 0.3069 - val_loss: 0.3024\n",
      "Epoch 42/50\n",
      "6860/7000 [============================>.] - ETA: 0s - loss: 0.3065\n",
      " - val roc auc :  0.879621985451\n",
      "7000/7000 [==============================] - 5s - loss: 0.3063 - val_loss: 0.3033\n",
      "Epoch 43/50\n",
      "6860/7000 [============================>.] - ETA: 0s - loss: 0.3045\n",
      " - val roc auc :  0.849318660826\n",
      "7000/7000 [==============================] - 5s - loss: 0.3048 - val_loss: 0.3320\n",
      "Epoch 44/50\n",
      "6860/7000 [============================>.] - ETA: 0s - loss: 0.3068\n",
      " - val roc auc :  0.897036684505\n",
      "7000/7000 [==============================] - 5s - loss: 0.3068 - val_loss: 0.2967\n",
      "Epoch 45/50\n",
      "5040/7000 [====================>.........] - ETA: 1s - loss: 0.3032"
     ]
    },
    {
     "name": "stderr",
     "output_type": "stream",
     "text": [
      "/usr/local/lib/python2.7/dist-packages/keras/callbacks.py:70: UserWarning: Method on_batch_end() is slow compared to the batch update (0.103413). Check your callbacks.\n",
      "  % delta_t_median)\n"
     ]
    },
    {
     "name": "stdout",
     "output_type": "stream",
     "text": [
      "6860/7000 [============================>.] - ETA: 0s - loss: 0.3020\n",
      " - val roc auc :  0.883031109471\n",
      "7000/7000 [==============================] - 6s - loss: 0.3016 - val_loss: 0.2967\n",
      "Epoch 46/50\n",
      "6860/7000 [============================>.] - ETA: 0s - loss: 0.2979\n",
      " - val roc auc :  0.891024582601\n",
      "7000/7000 [==============================] - 5s - loss: 0.2979 - val_loss: 0.2903\n",
      "Epoch 00045: early stopping\n",
      "Training for subject: 3\n",
      "Epoch 1/50\n",
      "6860/7000 [============================>.] - ETA: 0s - loss: 0.6737\n",
      " - val roc auc :  0.764266555679\n",
      "7000/7000 [==============================] - 4s - loss: 0.6717 - val_loss: 0.5615\n",
      "Epoch 2/50\n",
      "6860/7000 [============================>.] - ETA: 0s - loss: 0.5150\n",
      " - val roc auc :  0.774047354791\n",
      "7000/7000 [==============================] - 3s - loss: 0.5145 - val_loss: 0.4894\n",
      "Epoch 3/50\n",
      "6860/7000 [============================>.] - ETA: 0s - loss: 0.4581\n",
      " - val roc auc :  0.841557220372\n",
      "7000/7000 [==============================] - 3s - loss: 0.4580 - val_loss: 0.4282\n",
      "Epoch 4/50\n",
      "6860/7000 [============================>.] - ETA: 0s - loss: 0.4231\n",
      " - val roc auc :  0.842690220742\n",
      "7000/7000 [==============================] - 3s - loss: 0.4232 - val_loss: 0.4146\n",
      "Epoch 5/50\n",
      "6860/7000 [============================>.] - ETA: 0s - loss: 0.3881\n",
      " - val roc auc :  0.850998890122\n",
      "7000/7000 [==============================] - 4s - loss: 0.3889 - val_loss: 0.4014\n",
      "Epoch 6/50\n",
      "6860/7000 [============================>.] - ETA: 0s - loss: 0.3698\n",
      " - val roc auc :  0.864093908003\n",
      "7000/7000 [==============================] - 3s - loss: 0.3697 - val_loss: 0.3846\n",
      "Epoch 7/50\n",
      "6860/7000 [============================>.] - ETA: 0s - loss: 0.3607\n",
      " - val roc auc :  0.874275496362\n",
      "7000/7000 [==============================] - 4s - loss: 0.3602 - val_loss: 0.3653\n",
      "Epoch 8/50\n",
      "6860/7000 [============================>.] - ETA: 0s - loss: 0.3460\n",
      " - val roc auc :  0.870175114071\n",
      "7000/7000 [==============================] - 3s - loss: 0.3459 - val_loss: 0.3831\n",
      "Epoch 9/50\n",
      "6860/7000 [============================>.] - ETA: 0s - loss: 0.3446\n",
      " - val roc auc :  0.866144099149\n",
      "7000/7000 [==============================] - 4s - loss: 0.3452 - val_loss: 0.3739\n",
      "Epoch 10/50\n",
      "6860/7000 [============================>.] - ETA: 0s - loss: 0.3420\n",
      " - val roc auc :  0.863716241213\n",
      "7000/7000 [==============================] - 4s - loss: 0.3423 - val_loss: 0.3852\n",
      "Epoch 11/50\n",
      "6860/7000 [============================>.] - ETA: 0s - loss: 0.3440\n",
      " - val roc auc :  0.8577660624\n",
      "7000/7000 [==============================] - 3s - loss: 0.3449 - val_loss: 0.4070\n",
      "Epoch 12/50\n",
      "6860/7000 [============================>.] - ETA: 0s - loss: 0.3327\n",
      " - val roc auc :  0.88807960291\n",
      "7000/7000 [==============================] - 3s - loss: 0.3328 - val_loss: 0.3459\n",
      "Epoch 13/50\n",
      "6860/7000 [============================>.] - ETA: 0s - loss: 0.3203\n",
      " - val roc auc :  0.876726476754\n",
      "7000/7000 [==============================] - 3s - loss: 0.3205 - val_loss: 0.3612\n",
      "Epoch 14/50\n",
      "6860/7000 [============================>.] - ETA: 0s - loss: 0.3286\n",
      " - val roc auc :  0.862752805525\n",
      "7000/7000 [==============================] - 4s - loss: 0.3284 - val_loss: 0.3858\n",
      "Epoch 15/50\n",
      "6860/7000 [============================>.] - ETA: 0s - loss: 0.3262\n",
      " - val roc auc :  0.866097854236\n",
      "7000/7000 [==============================] - 3s - loss: 0.3259 - val_loss: 0.3776\n",
      "Epoch 16/50\n",
      "6860/7000 [============================>.] - ETA: 0s - loss: 0.3148\n",
      " - val roc auc :  0.879963620668\n",
      "7000/7000 [==============================] - 3s - loss: 0.3146 - val_loss: 0.3561\n",
      "Epoch 17/50\n",
      "6860/7000 [============================>.] - ETA: 0s - loss: 0.3195\n",
      " - val roc auc :  0.881697804908\n",
      "7000/7000 [==============================] - 3s - loss: 0.3196 - val_loss: 0.3537\n",
      "Epoch 18/50\n",
      "6860/7000 [============================>.] - ETA: 0s - loss: 0.3320\n",
      " - val roc auc :  0.89079263781\n",
      "7000/7000 [==============================] - 3s - loss: 0.3309 - val_loss: 0.3456\n",
      "Epoch 19/50\n",
      "6860/7000 [============================>.] - ETA: 0s - loss: 0.3150\n",
      " - val roc auc :  0.895278394377\n",
      "7000/7000 [==============================] - 3s - loss: 0.3149 - val_loss: 0.3359\n",
      "Epoch 20/50\n",
      "6860/7000 [============================>.] - ETA: 0s - loss: 0.3181\n",
      " - val roc auc :  0.875023122457\n",
      "7000/7000 [==============================] - 3s - loss: 0.3185 - val_loss: 0.3673\n",
      "Epoch 21/50\n",
      "6860/7000 [============================>.] - ETA: 0s - loss: 0.3118\n",
      " - val roc auc :  0.882807682822\n",
      "7000/7000 [==============================] - 4s - loss: 0.3115 - val_loss: 0.3595\n",
      "Epoch 22/50\n",
      "6860/7000 [============================>.] - ETA: 0s - loss: 0.3090\n",
      " - val roc auc :  0.87651066716\n",
      "7000/7000 [==============================] - 4s - loss: 0.3092 - val_loss: 0.3598\n",
      "Epoch 23/50\n",
      "6860/7000 [============================>.] - ETA: 0s - loss: 0.3287\n",
      " - val roc auc :  0.879925083241\n",
      "7000/7000 [==============================] - 3s - loss: 0.3277 - val_loss: 0.3601\n",
      "Epoch 24/50\n",
      "6860/7000 [============================>.] - ETA: 0s - loss: 0.3126\n",
      " - val roc auc :  0.895887285732\n",
      "7000/7000 [==============================] - 3s - loss: 0.3129 - val_loss: 0.3342\n",
      "Epoch 25/50\n",
      "6860/7000 [============================>.] - ETA: 0s - loss: 0.3008\n",
      " - val roc auc :  0.886592058207\n",
      "7000/7000 [==============================] - 3s - loss: 0.3008 - val_loss: 0.3561\n",
      "Epoch 26/50\n",
      "6860/7000 [============================>.] - ETA: 0s - loss: 0.3042\n",
      " - val roc auc :  0.875747626094\n",
      "7000/7000 [==============================] - 3s - loss: 0.3035 - val_loss: 0.3657\n",
      "Epoch 27/50\n",
      "6860/7000 [============================>.] - ETA: 0s - loss: 0.3084\n",
      " - val roc auc :  0.87900018498\n",
      "7000/7000 [==============================] - 3s - loss: 0.3086 - val_loss: 0.3576\n",
      "Epoch 28/50\n",
      "6860/7000 [============================>.] - ETA: 0s - loss: 0.3004\n",
      " - val roc auc :  0.893891046985\n",
      "7000/7000 [==============================] - 3s - loss: 0.3004 - val_loss: 0.3407\n",
      "Epoch 29/50\n",
      "6860/7000 [============================>.] - ETA: 0s - loss: 0.3106\n",
      " - val roc auc :  0.872364039956\n",
      "7000/7000 [==============================] - 4s - loss: 0.3113 - val_loss: 0.3763\n",
      "Epoch 30/50\n",
      "6860/7000 [============================>.] - ETA: 0s - loss: 0.3033\n",
      " - val roc auc :  0.895848748304\n",
      "7000/7000 [==============================] - 3s - loss: 0.3039 - val_loss: 0.3376\n",
      "Epoch 31/50\n",
      "6860/7000 [============================>.] - ETA: 0s - loss: 0.2987\n",
      " - val roc auc :  0.879609076335\n",
      "7000/7000 [==============================] - 3s - loss: 0.2984 - val_loss: 0.3612\n",
      "Epoch 32/50\n",
      "6860/7000 [============================>.] - ETA: 0s - loss: 0.3040\n",
      " - val roc auc :  0.872225305216\n",
      "7000/7000 [==============================] - 4s - loss: 0.3044 - val_loss: 0.3716\n",
      "Epoch 33/50\n",
      "6860/7000 [============================>.] - ETA: 0s - loss: 0.3016\n",
      " - val roc auc :  0.889898569491\n",
      "7000/7000 [==============================] - 3s - loss: 0.3012 - val_loss: 0.3477\n",
      "Epoch 34/50\n",
      "6860/7000 [============================>.] - ETA: 0s - loss: 0.2996\n",
      " - val roc auc :  0.895139659637\n",
      "7000/7000 [==============================] - 3s - loss: 0.2993 - val_loss: 0.3463\n",
      "Epoch 35/50\n",
      "6860/7000 [============================>.] - ETA: 0s - loss: 0.3028\n",
      " - val roc auc :  0.888881181403\n",
      "7000/7000 [==============================] - 3s - loss: 0.3033 - val_loss: 0.3505\n",
      "Epoch 00034: early stopping\n",
      "Training for subject: 4\n",
      "Epoch 1/50\n",
      "6860/7000 [============================>.] - ETA: 0s - loss: 0.5821\n",
      " - val roc auc :  0.774182956811\n",
      "7000/7000 [==============================] - 4s - loss: 0.5797 - val_loss: 0.5121\n",
      "Epoch 2/50\n",
      "6860/7000 [============================>.] - ETA: 0s - loss: 0.4563\n",
      " - val roc auc :  0.796173651208\n",
      "7000/7000 [==============================] - 4s - loss: 0.4557 - val_loss: 0.4756\n",
      "Epoch 3/50\n",
      "6860/7000 [============================>.] - ETA: 0s - loss: 0.4163\n",
      " - val roc auc :  0.845688750791\n",
      "7000/7000 [==============================] - 4s - loss: 0.4154 - val_loss: 0.4044\n",
      "Epoch 4/50\n",
      "6860/7000 [============================>.] - ETA: 0s - loss: 0.3598\n",
      " - val roc auc :  0.833956643256\n",
      "7000/7000 [==============================] - 4s - loss: 0.3594 - val_loss: 0.4363\n",
      "Epoch 5/50\n",
      "6860/7000 [============================>.] - ETA: 0s - loss: 0.3304\n",
      " - val roc auc :  0.845584643352\n",
      "7000/7000 [==============================] - 4s - loss: 0.3295 - val_loss: 0.4013\n",
      "Epoch 6/50\n",
      "6860/7000 [============================>.] - ETA: 0s - loss: 0.3074\n",
      " - val roc auc :  0.844311329292\n",
      "7000/7000 [==============================] - 4s - loss: 0.3069 - val_loss: 0.4369\n",
      "Epoch 7/50\n",
      "6860/7000 [============================>.] - ETA: 0s - loss: 0.3020\n",
      " - val roc auc :  0.857797246759\n",
      "7000/7000 [==============================] - 4s - loss: 0.3017 - val_loss: 0.4058\n",
      "Epoch 8/50\n",
      "6860/7000 [============================>.] - ETA: 0s - loss: 0.2840\n",
      " - val roc auc :  0.824266643176\n",
      "7000/7000 [==============================] - 4s - loss: 0.2841 - val_loss: 0.4419\n",
      "Epoch 9/50\n",
      "6860/7000 [============================>.] - ETA: 0s - loss: 0.2877\n",
      " - val roc auc :  0.863859503007\n",
      "7000/7000 [==============================] - 4s - loss: 0.2878 - val_loss: 0.4120\n",
      "Epoch 10/50\n",
      "6860/7000 [============================>.] - ETA: 0s - loss: 0.2756\n",
      " - val roc auc :  0.859543048426\n",
      "7000/7000 [==============================] - 4s - loss: 0.2745 - val_loss: 0.4096\n",
      "Epoch 11/50\n",
      "6860/7000 [============================>.] - ETA: 0s - loss: 0.2747\n",
      " - val roc auc :  0.866326048482\n",
      "7000/7000 [==============================] - 4s - loss: 0.2743 - val_loss: 0.4014\n",
      "Epoch 12/50\n",
      "6860/7000 [============================>.] - ETA: 0s - loss: 0.2741\n",
      " - val roc auc :  0.871971874975\n",
      "7000/7000 [==============================] - 4s - loss: 0.2743 - val_loss: 0.3985\n",
      "Epoch 13/50\n",
      "6860/7000 [============================>.] - ETA: 0s - loss: 0.2685\n",
      " - val roc auc :  0.843446436723\n",
      "7000/7000 [==============================] - 4s - loss: 0.2683 - val_loss: 0.4487\n",
      "Epoch 14/50\n",
      "6860/7000 [============================>.] - ETA: 0s - loss: 0.2630\n",
      " - val roc auc :  0.856139536001\n",
      "7000/7000 [==============================] - 4s - loss: 0.2629 - val_loss: 0.4267\n",
      "Epoch 15/50\n",
      "6860/7000 [============================>.] - ETA: 0s - loss: 0.2667\n",
      " - val roc auc :  0.876912974189\n",
      "7000/7000 [==============================] - 4s - loss: 0.2668 - val_loss: 0.3868\n",
      "Epoch 16/50\n",
      "6860/7000 [============================>.] - ETA: 0s - loss: 0.2669\n",
      " - val roc auc :  0.843398387136\n",
      "7000/7000 [==============================] - 4s - loss: 0.2670 - val_loss: 0.4540\n",
      "Epoch 17/50\n",
      "6860/7000 [============================>.] - ETA: 0s - loss: 0.2634\n",
      " - val roc auc :  0.867222974109\n",
      "7000/7000 [==============================] - 4s - loss: 0.2632 - val_loss: 0.4099\n",
      "Epoch 18/50\n",
      "6860/7000 [============================>.] - ETA: 0s - loss: 0.2635\n",
      " - val roc auc :  0.822432750599\n",
      "7000/7000 [==============================] - 4s - loss: 0.2642 - val_loss: 0.4903\n",
      "Epoch 19/50\n",
      "6860/7000 [============================>.] - ETA: 0s - loss: 0.2606\n",
      " - val roc auc :  0.853873197139\n",
      "7000/7000 [==============================] - 4s - loss: 0.2606 - val_loss: 0.4364\n",
      "Epoch 20/50\n",
      "6860/7000 [============================>.] - ETA: 0s - loss: 0.2595\n",
      " - val roc auc :  0.86432398235\n",
      "7000/7000 [==============================] - 4s - loss: 0.2599 - val_loss: 0.4274\n",
      "Epoch 21/50\n",
      "6860/7000 [============================>.] - ETA: 0s - loss: 0.2627\n",
      " - val roc auc :  0.848067205356\n",
      "7000/7000 [==============================] - 4s - loss: 0.2630 - val_loss: 0.4582\n",
      "Epoch 22/50\n",
      "6860/7000 [============================>.] - ETA: 0s - loss: 0.2709\n",
      " - val roc auc :  0.821167444803\n",
      "7000/7000 [==============================] - 4s - loss: 0.2711 - val_loss: 0.5070\n",
      "Epoch 23/50\n",
      "6860/7000 [============================>.] - ETA: 0s - loss: 0.2671\n",
      " - val roc auc :  0.863282907961\n",
      "7000/7000 [==============================] - 4s - loss: 0.2668 - val_loss: 0.4249\n",
      "Epoch 24/50\n",
      "6860/7000 [============================>.] - ETA: 0s - loss: 0.2568\n",
      " - val roc auc :  0.857645089733\n",
      "7000/7000 [==============================] - 4s - loss: 0.2566 - val_loss: 0.4324\n",
      "Epoch 25/50\n",
      "6860/7000 [============================>.] - ETA: 0s - loss: 0.2575\n",
      " - val roc auc :  0.862610213741\n",
      "7000/7000 [==============================] - 4s - loss: 0.2571 - val_loss: 0.4203\n",
      "Epoch 26/50\n",
      "6860/7000 [============================>.] - ETA: 0s - loss: 0.2544\n",
      " - val roc auc :  0.848051188827\n",
      "7000/7000 [==============================] - 4s - loss: 0.2544 - val_loss: 0.4553\n",
      "Epoch 00025: early stopping\n",
      "Training for subject: 5\n",
      "Epoch 1/50\n",
      "6860/7000 [============================>.] - ETA: 0s - loss: 0.6137\n",
      " - val roc auc :  0.692070578231\n",
      "7000/7000 [==============================] - 5s - loss: 0.6114 - val_loss: 0.5665\n",
      "Epoch 2/50\n",
      "6860/7000 [============================>.] - ETA: 0s - loss: 0.4837\n",
      " - val roc auc :  0.732692035147\n",
      "7000/7000 [==============================] - 4s - loss: 0.4832 - val_loss: 0.5328\n",
      "Epoch 3/50\n",
      "6860/7000 [============================>.] - ETA: 0s - loss: 0.4182\n",
      " - val roc auc :  0.773393211451\n",
      "7000/7000 [==============================] - 5s - loss: 0.4179 - val_loss: 0.4789\n",
      "Epoch 4/50\n",
      "6860/7000 [============================>.] - ETA: 0s - loss: 0.3848\n",
      " - val roc auc :  0.782507794785\n",
      "7000/7000 [==============================] - 5s - loss: 0.3846 - val_loss: 0.4236\n",
      "Epoch 5/50\n",
      "6860/7000 [============================>.] - ETA: 0s - loss: 0.3449\n",
      " - val roc auc :  0.786449475624\n",
      "7000/7000 [==============================] - 4s - loss: 0.3452 - val_loss: 0.4184\n",
      "Epoch 6/50\n",
      "6860/7000 [============================>.] - ETA: 0s - loss: 0.3425\n",
      " - val roc auc :  0.791737528345\n",
      "7000/7000 [==============================] - 4s - loss: 0.3423 - val_loss: 0.4105\n",
      "Epoch 7/50\n",
      "6860/7000 [============================>.] - ETA: 0s - loss: 0.3194\n",
      " - val roc auc :  0.790860615079\n",
      "7000/7000 [==============================] - 5s - loss: 0.3186 - val_loss: 0.4184\n",
      "Epoch 8/50\n",
      "6860/7000 [============================>.] - ETA: 0s - loss: 0.3131\n",
      " - val roc auc :  0.802765376984\n",
      "7000/7000 [==============================] - 5s - loss: 0.3131 - val_loss: 0.4194\n",
      "Epoch 9/50\n",
      "6860/7000 [============================>.] - ETA: 0s - loss: 0.3193\n",
      " - val roc auc :  0.776484552154\n",
      "7000/7000 [==============================] - 4s - loss: 0.3190 - val_loss: 0.4383\n",
      "Epoch 10/50\n",
      "6860/7000 [============================>.] - ETA: 0s - loss: 0.3154\n",
      " - val roc auc :  0.794882015306\n",
      "7000/7000 [==============================] - 5s - loss: 0.3156 - val_loss: 0.4125\n",
      "Epoch 11/50\n",
      "6860/7000 [============================>.] - ETA: 0s - loss: 0.3139\n",
      " - val roc auc :  0.791285785147\n",
      "7000/7000 [==============================] - 5s - loss: 0.3144 - val_loss: 0.4293\n",
      "Epoch 12/50\n",
      "6860/7000 [============================>.] - ETA: 0s - loss: 0.3112\n",
      " - val roc auc :  0.780948837868\n",
      "7000/7000 [==============================] - 5s - loss: 0.3111 - val_loss: 0.4356\n",
      "Epoch 13/50\n",
      "6860/7000 [============================>.] - ETA: 0s - loss: 0.3069\n",
      " - val roc auc :  0.793243339002\n",
      "7000/7000 [==============================] - 4s - loss: 0.3066 - val_loss: 0.4307\n",
      "Epoch 14/50\n",
      "6860/7000 [============================>.] - ETA: 0s - loss: 0.3073\n",
      " - val roc auc :  0.794696003401\n",
      "7000/7000 [==============================] - 4s - loss: 0.3074 - val_loss: 0.4253\n",
      "Epoch 15/50\n",
      "6860/7000 [============================>.] - ETA: 0s - loss: 0.3030\n",
      " - val roc auc :  0.803420847506\n",
      "7000/7000 [==============================] - 4s - loss: 0.3026 - val_loss: 0.4183\n",
      "Epoch 16/50\n",
      "6860/7000 [============================>.] - ETA: 0s - loss: 0.3055\n",
      " - val roc auc :  0.812238697562\n",
      "7000/7000 [==============================] - 4s - loss: 0.3057 - val_loss: 0.4119\n",
      "Epoch 17/50\n",
      "6860/7000 [============================>.] - ETA: 0s - loss: 0.3094\n",
      " - val roc auc :  0.814023526077\n",
      "7000/7000 [==============================] - 4s - loss: 0.3094 - val_loss: 0.4055\n",
      "Epoch 18/50\n",
      "6860/7000 [============================>.] - ETA: 0s - loss: 0.2977\n",
      " - val roc auc :  0.78408446712\n",
      "7000/7000 [==============================] - 5s - loss: 0.2975 - val_loss: 0.4378\n",
      "Epoch 19/50\n",
      "6860/7000 [============================>.] - ETA: 0s - loss: 0.3038\n",
      " - val roc auc :  0.819851899093\n",
      "7000/7000 [==============================] - 5s - loss: 0.3034 - val_loss: 0.3997\n",
      "Epoch 20/50\n",
      "6860/7000 [============================>.] - ETA: 0s - loss: 0.2954\n",
      " - val roc auc :  0.802136479592\n",
      "7000/7000 [==============================] - 5s - loss: 0.2950 - val_loss: 0.4281\n",
      "Epoch 21/50\n",
      "6860/7000 [============================>.] - ETA: 0s - loss: 0.2977\n",
      " - val roc auc :  0.800258645125\n",
      "7000/7000 [==============================] - 4s - loss: 0.2977 - val_loss: 0.4245\n",
      "Epoch 22/50\n",
      "6860/7000 [============================>.] - ETA: 0s - loss: 0.2924\n",
      " - val roc auc :  0.81675170068\n",
      "7000/7000 [==============================] - 4s - loss: 0.2927 - val_loss: 0.4044\n",
      "Epoch 23/50\n",
      "6860/7000 [============================>.] - ETA: 0s - loss: 0.2971\n",
      " - val roc auc :  0.814014668367\n",
      "7000/7000 [==============================] - 5s - loss: 0.2974 - val_loss: 0.4077\n",
      "Epoch 24/50\n",
      "6860/7000 [============================>.] - ETA: 0s - loss: 0.3018\n",
      " - val roc auc :  0.820799674036\n",
      "7000/7000 [==============================] - 4s - loss: 0.3016 - val_loss: 0.3991\n",
      "Epoch 25/50\n",
      "6860/7000 [============================>.] - ETA: 0s - loss: 0.2930\n",
      " - val roc auc :  0.809382086168\n",
      "7000/7000 [==============================] - 4s - loss: 0.2927 - val_loss: 0.4176\n",
      "Epoch 26/50\n",
      "6860/7000 [============================>.] - ETA: 0s - loss: 0.2924\n",
      " - val roc auc :  0.813013747166\n",
      "7000/7000 [==============================] - 5s - loss: 0.2928 - val_loss: 0.4139\n",
      "Epoch 27/50\n",
      "6860/7000 [============================>.] - ETA: 0s - loss: 0.2926\n",
      " - val roc auc :  0.811357355442\n",
      "7000/7000 [==============================] - 4s - loss: 0.2922 - val_loss: 0.4090\n",
      "Epoch 28/50\n",
      "6860/7000 [============================>.] - ETA: 0s - loss: 0.2956\n",
      " - val roc auc :  0.817672902494\n",
      "7000/7000 [==============================] - 5s - loss: 0.2956 - val_loss: 0.4023\n",
      "Epoch 29/50\n",
      "6860/7000 [============================>.] - ETA: 0s - loss: 0.2928\n",
      " - val roc auc :  0.814590419501\n",
      "7000/7000 [==============================] - 5s - loss: 0.2930 - val_loss: 0.4119\n",
      "Epoch 30/50\n",
      "6860/7000 [============================>.] - ETA: 0s - loss: 0.2906\n",
      " - val roc auc :  0.816946570295\n",
      "7000/7000 [==============================] - 4s - loss: 0.2904 - val_loss: 0.4134\n",
      "Epoch 31/50\n",
      "6860/7000 [============================>.] - ETA: 0s - loss: 0.3017\n",
      " - val roc auc :  0.812251984127\n",
      "7000/7000 [==============================] - 5s - loss: 0.3012 - val_loss: 0.4142\n",
      "Epoch 32/50\n",
      "6860/7000 [============================>.] - ETA: 0s - loss: 0.2870\n",
      " - val roc auc :  0.819975907029\n",
      "7000/7000 [==============================] - 5s - loss: 0.2868 - val_loss: 0.4024\n",
      "Epoch 33/50\n",
      "6860/7000 [============================>.] - ETA: 0s - loss: 0.2882\n",
      " - val roc auc :  0.824077026644\n",
      "7000/7000 [==============================] - 4s - loss: 0.2882 - val_loss: 0.4038\n",
      "Epoch 34/50\n",
      "6860/7000 [============================>.] - ETA: 0s - loss: 0.2935\n",
      " - val roc auc :  0.817974064626\n",
      "7000/7000 [==============================] - 4s - loss: 0.2939 - val_loss: 0.4055\n",
      "Epoch 35/50\n",
      "6860/7000 [============================>.] - ETA: 0s - loss: 0.2903\n",
      " - val roc auc :  0.815440759637\n",
      "7000/7000 [==============================] - 5s - loss: 0.2900 - val_loss: 0.4128\n",
      "Epoch 36/50\n",
      "6860/7000 [============================>.] - ETA: 0s - loss: 0.2853\n",
      " - val roc auc :  0.823811295351\n",
      "7000/7000 [==============================] - 4s - loss: 0.2851 - val_loss: 0.3999\n",
      "Epoch 37/50\n",
      "6860/7000 [============================>.] - ETA: 0s - loss: 0.2883\n",
      " - val roc auc :  0.820560515873\n",
      "7000/7000 [==============================] - 4s - loss: 0.2884 - val_loss: 0.4041\n",
      "Epoch 38/50\n",
      "6860/7000 [============================>.] - ETA: 0s - loss: 0.2869\n",
      " - val roc auc :  0.822243480726\n",
      "7000/7000 [==============================] - 5s - loss: 0.2866 - val_loss: 0.4101\n",
      "Epoch 39/50\n",
      "6860/7000 [============================>.] - ETA: 0s - loss: 0.2865\n",
      " - val roc auc :  0.823917587868\n",
      "7000/7000 [==============================] - 5s - loss: 0.2865 - val_loss: 0.4017\n",
      "Epoch 40/50\n",
      "6860/7000 [============================>.] - ETA: 0s - loss: 0.2907\n",
      " - val roc auc :  0.817584325397\n",
      "7000/7000 [==============================] - 5s - loss: 0.2911 - val_loss: 0.4083\n",
      "Epoch 41/50\n",
      "6860/7000 [============================>.] - ETA: 0s - loss: 0.2895\n",
      " - val roc auc :  0.824077026644\n",
      "7000/7000 [==============================] - 5s - loss: 0.2895 - val_loss: 0.3928\n",
      "Epoch 42/50\n",
      "6860/7000 [============================>.] - ETA: 0s - loss: 0.2838\n",
      " - val roc auc :  0.821543721655\n",
      "7000/7000 [==============================] - 4s - loss: 0.2839 - val_loss: 0.4065\n",
      "Epoch 43/50\n",
      "6860/7000 [============================>.] - ETA: 0s - loss: 0.2923\n",
      " - val roc auc :  0.825804280045\n",
      "7000/7000 [==============================] - 5s - loss: 0.2927 - val_loss: 0.3957\n",
      "Epoch 44/50\n",
      "6860/7000 [============================>.] - ETA: 0s - loss: 0.2868\n",
      " - val roc auc :  0.822712939342\n",
      "7000/7000 [==============================] - 5s - loss: 0.2869 - val_loss: 0.3997\n",
      "Epoch 45/50\n",
      "6860/7000 [============================>.] - ETA: 0s - loss: 0.2807\n",
      " - val roc auc :  0.829285359977\n",
      "7000/7000 [==============================] - 5s - loss: 0.2804 - val_loss: 0.3951\n",
      "Epoch 46/50\n",
      "6860/7000 [============================>.] - ETA: 0s - loss: 0.2859\n",
      " - val roc auc :  0.820551658163\n",
      "7000/7000 [==============================] - 5s - loss: 0.2861 - val_loss: 0.3993\n",
      "Epoch 47/50\n",
      "6860/7000 [============================>.] - ETA: 0s - loss: 0.2875\n",
      " - val roc auc :  0.815299036281\n",
      "7000/7000 [==============================] - 5s - loss: 0.2877 - val_loss: 0.4075\n",
      "Epoch 48/50\n",
      "6860/7000 [============================>.] - ETA: 0s - loss: 0.2841\n",
      " - val roc auc :  0.827504960317\n",
      "7000/7000 [==============================] - 5s - loss: 0.2842 - val_loss: 0.3940\n",
      "Epoch 49/50\n",
      "6860/7000 [============================>.] - ETA: 0s - loss: 0.2836\n",
      " - val roc auc :  0.819754464286\n",
      "7000/7000 [==============================] - 5s - loss: 0.2834 - val_loss: 0.4195\n",
      "Epoch 50/50\n",
      "6860/7000 [============================>.] - ETA: 0s - loss: 0.2825\n",
      " - val roc auc :  0.81959502551\n",
      "7000/7000 [==============================] - 5s - loss: 0.2831 - val_loss: 0.4084\n",
      "Epoch 00025: early stopping\n",
      "Training for subject: 6\n",
      "Epoch 1/50\n",
      "6860/7000 [============================>.] - ETA: 0s - loss: 0.6024\n",
      " - val roc auc :  0.803625987709\n",
      "7000/7000 [==============================] - 5s - loss: 0.5997 - val_loss: 0.4991\n",
      "Epoch 2/50\n",
      "6860/7000 [============================>.] - ETA: 0s - loss: 0.4585\n",
      " - val roc auc :  0.846356453029\n",
      "7000/7000 [==============================] - 5s - loss: 0.4580 - val_loss: 0.4234\n",
      "Epoch 3/50\n",
      "6860/7000 [============================>.] - ETA: 0s - loss: 0.3927\n",
      " - val roc auc :  0.853871817384\n",
      "7000/7000 [==============================] - 5s - loss: 0.3922 - val_loss: 0.3975\n",
      "Epoch 4/50\n",
      "6860/7000 [============================>.] - ETA: 0s - loss: 0.3432\n",
      " - val roc auc :  0.884820017559\n",
      "7000/7000 [==============================] - 5s - loss: 0.3425 - val_loss: 0.3383\n",
      "Epoch 5/50\n",
      "6860/7000 [============================>.] - ETA: 0s - loss: 0.3127\n",
      " - val roc auc :  0.894284460053\n",
      "7000/7000 [==============================] - 4s - loss: 0.3121 - val_loss: 0.3367\n",
      "Epoch 6/50\n",
      "6860/7000 [============================>.] - ETA: 0s - loss: 0.2889\n",
      " - val roc auc :  0.904012291484\n",
      "7000/7000 [==============================] - 5s - loss: 0.2887 - val_loss: 0.3115\n",
      "Epoch 7/50\n",
      "6860/7000 [============================>.] - ETA: 0s - loss: 0.2762\n",
      " - val roc auc :  0.914416154522\n",
      "7000/7000 [==============================] - 5s - loss: 0.2762 - val_loss: 0.2997\n",
      "Epoch 8/50\n",
      "6860/7000 [============================>.] - ETA: 0s - loss: 0.2639\n",
      " - val roc auc :  0.91139596137\n",
      "7000/7000 [==============================] - 5s - loss: 0.2636 - val_loss: 0.2991\n",
      "Epoch 9/50\n",
      "6860/7000 [============================>.] - ETA: 0s - loss: 0.2694\n",
      " - val roc auc :  0.917050043898\n",
      "7000/7000 [==============================] - 5s - loss: 0.2698 - val_loss: 0.2903\n",
      "Epoch 10/50\n",
      "6860/7000 [============================>.] - ETA: 0s - loss: 0.2592\n",
      " - val roc auc :  0.908647936787\n",
      "7000/7000 [==============================] - 5s - loss: 0.2586 - val_loss: 0.3132\n",
      "Epoch 11/50\n",
      "6860/7000 [============================>.] - ETA: 0s - loss: 0.2566\n",
      " - val roc auc :  0.913968393327\n",
      "7000/7000 [==============================] - 5s - loss: 0.2567 - val_loss: 0.2985\n",
      "Epoch 12/50\n",
      "6860/7000 [============================>.] - ETA: 0s - loss: 0.2559\n",
      " - val roc auc :  0.918849868306\n",
      "7000/7000 [==============================] - 5s - loss: 0.2555 - val_loss: 0.2881\n",
      "Epoch 13/50\n",
      "6860/7000 [============================>.] - ETA: 0s - loss: 0.2537\n",
      " - val roc auc :  0.924828797191\n",
      "7000/7000 [==============================] - 5s - loss: 0.2534 - val_loss: 0.2916\n",
      "Epoch 14/50\n",
      "6860/7000 [============================>.] - ETA: 0s - loss: 0.2490\n",
      " - val roc auc :  0.922414398595\n",
      "7000/7000 [==============================] - 5s - loss: 0.2494 - val_loss: 0.2786\n",
      "Epoch 15/50\n",
      "6860/7000 [============================>.] - ETA: 0s - loss: 0.2567\n",
      " - val roc auc :  0.914732221247\n",
      "7000/7000 [==============================] - 5s - loss: 0.2567 - val_loss: 0.3101\n",
      "Epoch 16/50\n",
      "6860/7000 [============================>.] - ETA: 0s - loss: 0.2514\n",
      " - val roc auc :  0.919938542581\n",
      "7000/7000 [==============================] - 5s - loss: 0.2513 - val_loss: 0.3104\n",
      "Epoch 17/50\n",
      "6860/7000 [============================>.] - ETA: 0s - loss: 0.2568\n",
      " - val roc auc :  0.917032484636\n",
      "7000/7000 [==============================] - 5s - loss: 0.2556 - val_loss: 0.2975\n",
      "Epoch 18/50\n",
      "6860/7000 [============================>.] - ETA: 0s - loss: 0.2439\n",
      " - val roc auc :  0.917752414399\n",
      "7000/7000 [==============================] - 5s - loss: 0.2447 - val_loss: 0.2882\n",
      "Epoch 19/50\n",
      "6860/7000 [============================>.] - ETA: 0s - loss: 0.2370\n",
      " - val roc auc :  0.920860403863\n",
      "7000/7000 [==============================] - 5s - loss: 0.2379 - val_loss: 0.2908\n",
      "Epoch 20/50\n",
      "6860/7000 [============================>.] - ETA: 0s - loss: 0.2451\n",
      " - val roc auc :  0.915785776997\n",
      "7000/7000 [==============================] - 5s - loss: 0.2451 - val_loss: 0.2971\n",
      "Epoch 21/50\n",
      "6860/7000 [============================>.] - ETA: 0s - loss: 0.2456\n",
      " - val roc auc :  0.91181738367\n",
      "7000/7000 [==============================] - 5s - loss: 0.2461 - val_loss: 0.2946\n",
      "Epoch 22/50\n",
      "6860/7000 [============================>.] - ETA: 0s - loss: 0.2514\n",
      " - val roc auc :  0.90629499561\n",
      "7000/7000 [==============================] - 5s - loss: 0.2514 - val_loss: 0.3257\n",
      "Epoch 23/50\n",
      "6860/7000 [============================>.] - ETA: 0s - loss: 0.2490\n",
      " - val roc auc :  0.925987708516\n",
      "7000/7000 [==============================] - 5s - loss: 0.2491 - val_loss: 0.2774\n",
      "Epoch 24/50\n",
      "6860/7000 [============================>.] - ETA: 0s - loss: 0.2499\n",
      " - val roc auc :  0.916233538191\n",
      "7000/7000 [==============================] - 5s - loss: 0.2493 - val_loss: 0.2943\n",
      "Epoch 25/50\n",
      "6860/7000 [============================>.] - ETA: 0s - loss: 0.2461\n",
      " - val roc auc :  0.915258999122\n",
      "7000/7000 [==============================] - 5s - loss: 0.2464 - val_loss: 0.2835\n",
      "Epoch 26/50\n",
      "6860/7000 [============================>.] - ETA: 0s - loss: 0.2381\n",
      " - val roc auc :  0.928077260755\n",
      "7000/7000 [==============================] - 4s - loss: 0.2378 - val_loss: 0.2829\n",
      "Epoch 27/50\n",
      "6860/7000 [============================>.] - ETA: 0s - loss: 0.2463\n",
      " - val roc auc :  0.910149253731\n",
      "7000/7000 [==============================] - 4s - loss: 0.2468 - val_loss: 0.3218\n",
      "Epoch 28/50\n",
      "6860/7000 [============================>.] - ETA: 0s - loss: 0.2436\n",
      " - val roc auc :  0.92363476734\n",
      "7000/7000 [==============================] - 5s - loss: 0.2439 - val_loss: 0.2876\n",
      "Epoch 29/50\n",
      "6860/7000 [============================>.] - ETA: 0s - loss: 0.2344\n",
      " - val roc auc :  0.930096575944\n",
      "7000/7000 [==============================] - 5s - loss: 0.2343 - val_loss: 0.2760\n",
      "Epoch 30/50\n",
      "6860/7000 [============================>.] - ETA: 0s - loss: 0.2416\n",
      " - val roc auc :  0.921641791045\n",
      "7000/7000 [==============================] - 5s - loss: 0.2418 - val_loss: 0.2900\n",
      "Epoch 31/50\n",
      "6860/7000 [============================>.] - ETA: 0s - loss: 0.2367\n",
      " - val roc auc :  0.924424934153\n",
      "7000/7000 [==============================] - 4s - loss: 0.2367 - val_loss: 0.2880\n",
      "Epoch 32/50\n",
      "6860/7000 [============================>.] - ETA: 0s - loss: 0.2401\n",
      " - val roc auc :  0.919130816506\n",
      "7000/7000 [==============================] - 5s - loss: 0.2402 - val_loss: 0.2873\n",
      "Epoch 33/50\n",
      "6860/7000 [============================>.] - ETA: 0s - loss: 0.2369\n",
      " - val roc auc :  0.925496049166\n",
      "7000/7000 [==============================] - 5s - loss: 0.2371 - val_loss: 0.2732\n",
      "Epoch 34/50\n",
      "6860/7000 [============================>.] - ETA: 0s - loss: 0.2360\n",
      " - val roc auc :  0.921457418788\n",
      "7000/7000 [==============================] - 5s - loss: 0.2358 - val_loss: 0.2852\n",
      "Epoch 35/50\n",
      "6860/7000 [============================>.] - ETA: 0s - loss: 0.2344\n",
      " - val roc auc :  0.935109745391\n",
      "7000/7000 [==============================] - 5s - loss: 0.2346 - val_loss: 0.2603\n",
      "Epoch 36/50\n",
      "6860/7000 [============================>.] - ETA: 0s - loss: 0.2392\n",
      " - val roc auc :  0.929201053556\n",
      "7000/7000 [==============================] - 5s - loss: 0.2397 - val_loss: 0.2756\n",
      "Epoch 37/50\n",
      "6860/7000 [============================>.] - ETA: 0s - loss: 0.2408\n",
      " - val roc auc :  0.917374890255\n",
      "7000/7000 [==============================] - 5s - loss: 0.2409 - val_loss: 0.2955\n",
      "Epoch 38/50\n",
      "6860/7000 [============================>.] - ETA: 0s - loss: 0.2408\n",
      " - val roc auc :  0.922651448639\n",
      "7000/7000 [==============================] - 5s - loss: 0.2408 - val_loss: 0.2819\n",
      "Epoch 39/50\n",
      "6860/7000 [============================>.] - ETA: 0s - loss: 0.2397\n",
      " - val roc auc :  0.919288849868\n",
      "7000/7000 [==============================] - 5s - loss: 0.2398 - val_loss: 0.2892\n",
      "Epoch 40/50\n",
      "6860/7000 [============================>.] - ETA: 0s - loss: 0.2312\n",
      " - val roc auc :  0.918762071993\n",
      "7000/7000 [==============================] - 5s - loss: 0.2314 - val_loss: 0.2931\n",
      "Epoch 41/50\n",
      "6860/7000 [============================>.] - ETA: 0s - loss: 0.2380\n",
      " - val roc auc :  0.927208077261\n",
      "7000/7000 [==============================] - 5s - loss: 0.2382 - val_loss: 0.2764\n",
      "Epoch 42/50\n",
      "6860/7000 [============================>.] - ETA: 0s - loss: 0.2352\n",
      " - val roc auc :  0.908726953468\n",
      "7000/7000 [==============================] - 5s - loss: 0.2346 - val_loss: 0.3023\n",
      "Epoch 43/50\n",
      "6860/7000 [============================>.] - ETA: 0s - loss: 0.2367\n",
      " - val roc auc :  0.924776119403\n",
      "7000/7000 [==============================] - 5s - loss: 0.2367 - val_loss: 0.2761\n",
      "Epoch 44/50\n",
      "6860/7000 [============================>.] - ETA: 0s - loss: 0.2336\n",
      " - val roc auc :  0.927541703248\n",
      "7000/7000 [==============================] - 5s - loss: 0.2343 - val_loss: 0.2713\n",
      "Epoch 45/50\n",
      "6860/7000 [============================>.] - ETA: 0s - loss: 0.2352\n",
      " - val roc auc :  0.922221246708\n",
      "7000/7000 [==============================] - 5s - loss: 0.2345 - val_loss: 0.2807\n",
      "Epoch 46/50\n",
      "6860/7000 [============================>.] - ETA: 0s - loss: 0.2343\n",
      " - val roc auc :  0.924003511853\n",
      "7000/7000 [==============================] - 5s - loss: 0.2344 - val_loss: 0.2770\n",
      "Epoch 00045: early stopping\n",
      "Training for subject: 7\n",
      "Epoch 1/50\n",
      "6860/7000 [============================>.] - ETA: 0s - loss: 0.6024\n",
      " - val roc auc :  0.724306984078\n",
      "7000/7000 [==============================] - 6s - loss: 0.6001 - val_loss: 0.6104\n",
      "Epoch 2/50\n",
      "6860/7000 [============================>.] - ETA: 0s - loss: 0.4652\n",
      " - val roc auc :  0.779467336046\n",
      "7000/7000 [==============================] - 5s - loss: 0.4643 - val_loss: 0.5011\n",
      "Epoch 3/50\n",
      "6860/7000 [============================>.] - ETA: 0s - loss: 0.4077\n",
      " - val roc auc :  0.772734275176\n",
      "7000/7000 [==============================] - 5s - loss: 0.4070 - val_loss: 0.4536\n",
      "Epoch 4/50\n",
      " 280/7000 [>.............................] - ETA: 5s - loss: 0.3977"
     ]
    },
    {
     "name": "stderr",
     "output_type": "stream",
     "text": [
      "/usr/local/lib/python2.7/dist-packages/keras/callbacks.py:70: UserWarning: Method on_batch_end() is slow compared to the batch update (0.110699). Check your callbacks.\n",
      "  % delta_t_median)\n"
     ]
    },
    {
     "name": "stdout",
     "output_type": "stream",
     "text": [
      "6860/7000 [============================>.] - ETA: 0s - loss: 0.3656\n",
      " - val roc auc :  0.826127538491\n",
      "7000/7000 [==============================] - 5s - loss: 0.3651 - val_loss: 0.3744\n",
      "Epoch 5/50\n",
      "6860/7000 [============================>.] - ETA: 0s - loss: 0.3260\n",
      " - val roc auc :  0.813078268434\n",
      "7000/7000 [==============================] - 5s - loss: 0.3264 - val_loss: 0.3896\n",
      "Epoch 6/50\n",
      " 420/7000 [>.............................] - ETA: 4s - loss: 0.2995"
     ]
    },
    {
     "name": "stderr",
     "output_type": "stream",
     "text": [
      "/usr/local/lib/python2.7/dist-packages/keras/callbacks.py:70: UserWarning: Method on_batch_end() is slow compared to the batch update (0.101199). Check your callbacks.\n",
      "  % delta_t_median)\n"
     ]
    },
    {
     "name": "stdout",
     "output_type": "stream",
     "text": [
      "6860/7000 [============================>.] - ETA: 0s - loss: 0.3143\n",
      " - val roc auc :  0.828030557041\n",
      "7000/7000 [==============================] - 6s - loss: 0.3142 - val_loss: 0.3717\n",
      "Epoch 7/50\n",
      "6860/7000 [============================>.] - ETA: 0s - loss: 0.3026\n",
      " - val roc auc :  0.843155023516\n",
      "7000/7000 [==============================] - 5s - loss: 0.3026 - val_loss: 0.3639\n",
      "Epoch 8/50\n",
      "6860/7000 [============================>.] - ETA: 0s - loss: 0.2920\n",
      " - val roc auc :  0.842248824206\n",
      "7000/7000 [==============================] - 5s - loss: 0.2919 - val_loss: 0.3670\n",
      "Epoch 9/50\n",
      "6860/7000 [============================>.] - ETA: 0s - loss: 0.2851\n",
      " - val roc auc :  0.817246785258\n",
      "7000/7000 [==============================] - 8s - loss: 0.2861 - val_loss: 0.3955\n",
      "Epoch 10/50\n",
      "6860/7000 [============================>.] - ETA: 0s - loss: 0.2954\n",
      " - val roc auc :  0.827133419724\n",
      "7000/7000 [==============================] - 8s - loss: 0.2954 - val_loss: 0.3818\n",
      "Epoch 11/50\n",
      " 140/7000 [..............................] - ETA: 0s - loss: 0.3055"
     ]
    },
    {
     "name": "stderr",
     "output_type": "stream",
     "text": [
      "/usr/local/lib/python2.7/dist-packages/keras/callbacks.py:70: UserWarning: Method on_batch_end() is slow compared to the batch update (0.119437). Check your callbacks.\n",
      "  % delta_t_median)\n"
     ]
    },
    {
     "name": "stdout",
     "output_type": "stream",
     "text": [
      "1120/7000 [===>..........................] - ETA: 6s - loss: 0.3057"
     ]
    },
    {
     "name": "stderr",
     "output_type": "stream",
     "text": [
      "/usr/local/lib/python2.7/dist-packages/keras/callbacks.py:70: UserWarning: Method on_batch_end() is slow compared to the batch update (0.119644). Check your callbacks.\n",
      "  % delta_t_median)\n"
     ]
    },
    {
     "name": "stdout",
     "output_type": "stream",
     "text": [
      "1540/7000 [=====>........................] - ETA: 6s - loss: 0.2956"
     ]
    },
    {
     "name": "stderr",
     "output_type": "stream",
     "text": [
      "/usr/local/lib/python2.7/dist-packages/keras/callbacks.py:70: UserWarning: Method on_batch_end() is slow compared to the batch update (0.131997). Check your callbacks.\n",
      "  % delta_t_median)\n"
     ]
    },
    {
     "name": "stdout",
     "output_type": "stream",
     "text": [
      "6020/7000 [========================>.....] - ETA: 1s - loss: 0.2833"
     ]
    },
    {
     "name": "stderr",
     "output_type": "stream",
     "text": [
      "/usr/local/lib/python2.7/dist-packages/keras/callbacks.py:70: UserWarning: Method on_batch_end() is slow compared to the batch update (0.102029). Check your callbacks.\n",
      "  % delta_t_median)\n"
     ]
    },
    {
     "name": "stdout",
     "output_type": "stream",
     "text": [
      "6860/7000 [============================>.] - ETA: 0s - loss: 0.2846\n",
      " - val roc auc :  0.845755815534\n",
      "7000/7000 [==============================] - 8s - loss: 0.2839 - val_loss: 0.3609\n",
      "Epoch 12/50\n",
      " 420/7000 [>.............................] - ETA: 5s - loss: 0.2821"
     ]
    },
    {
     "name": "stderr",
     "output_type": "stream",
     "text": [
      "/usr/local/lib/python2.7/dist-packages/keras/callbacks.py:70: UserWarning: Method on_batch_end() is slow compared to the batch update (0.132057). Check your callbacks.\n",
      "  % delta_t_median)\n"
     ]
    },
    {
     "name": "stdout",
     "output_type": "stream",
     "text": [
      "5740/7000 [=======================>......] - ETA: 1s - loss: 0.2874"
     ]
    },
    {
     "name": "stderr",
     "output_type": "stream",
     "text": [
      "/usr/local/lib/python2.7/dist-packages/keras/callbacks.py:70: UserWarning: Method on_batch_end() is slow compared to the batch update (0.116047). Check your callbacks.\n",
      "  % delta_t_median)\n"
     ]
    },
    {
     "name": "stdout",
     "output_type": "stream",
     "text": [
      "6580/7000 [===========================>..] - ETA: 0s - loss: 0.2878\b\b\b\b\b\b\b\b\b\b\b\b\b\b\b\b\b\b\b\b\b\b\b\b\b\b\b\b\b\b\b\b\b\b\b\b\b\b\b\b\b\b\b\b\b\b\b\b\b\b\b\b\b\b\b\b\b\b\b\b\b\b\b\b\b\b\b"
     ]
    },
    {
     "name": "stderr",
     "output_type": "stream",
     "text": [
      "/usr/local/lib/python2.7/dist-packages/keras/callbacks.py:70: UserWarning: Method on_batch_end() is slow compared to the batch update (0.128393). Check your callbacks.\n",
      "  % delta_t_median)\n"
     ]
    },
    {
     "name": "stdout",
     "output_type": "stream",
     "text": [
      "6860/7000 [============================>.] - ETA: 0s - loss: 0.2877\n",
      " - val roc auc :  0.85010557222\n",
      "7000/7000 [==============================] - 6s - loss: 0.2873 - val_loss: 0.3554\n",
      "Epoch 13/50\n"
     ]
    },
    {
     "name": "stderr",
     "output_type": "stream",
     "text": [
      "/usr/local/lib/python2.7/dist-packages/keras/callbacks.py:70: UserWarning: Method on_batch_end() is slow compared to the batch update (0.122603). Check your callbacks.\n",
      "  % delta_t_median)\n",
      "/usr/local/lib/python2.7/dist-packages/keras/callbacks.py:70: UserWarning: Method on_batch_end() is slow compared to the batch update (0.105364). Check your callbacks.\n",
      "  % delta_t_median)\n"
     ]
    },
    {
     "name": "stdout",
     "output_type": "stream",
     "text": [
      "6860/7000 [============================>.] - ETA: 0s - loss: 0.2805\n",
      " - val roc auc :  0.861623365443\n",
      "7000/7000 [==============================] - 6s - loss: 0.2802 - val_loss: 0.3347\n",
      "Epoch 14/50\n",
      " 280/7000 [>.............................] - ETA: 4s - loss: 0.2952\b\b\b\b\b\b\b\b\b\b\b\b\b\b\b\b\b\b\b\b\b\b\b\b\b\b\b\b\b\b\b\b\b\b\b\b\b\b\b\b\b\b\b\b\b\b\b\b\b\b\b\b\b\b\b\b\b\b\b\b\b\b\b\b\b\b\b"
     ]
    },
    {
     "name": "stderr",
     "output_type": "stream",
     "text": [
      "/usr/local/lib/python2.7/dist-packages/keras/callbacks.py:70: UserWarning: Method on_batch_end() is slow compared to the batch update (0.133545). Check your callbacks.\n",
      "  % delta_t_median)\n"
     ]
    },
    {
     "name": "stdout",
     "output_type": "stream",
     "text": [
      "6860/7000 [============================>.] - ETA: 0s - loss: 0.2820\n",
      " - val roc auc :  0.856584897282\n",
      "7000/7000 [==============================] - 7s - loss: 0.2824 - val_loss: 0.3527\n",
      "Epoch 15/50\n",
      " 420/7000 [>.............................] - ETA: 3s - loss: 0.2623"
     ]
    },
    {
     "name": "stderr",
     "output_type": "stream",
     "text": [
      "/usr/local/lib/python2.7/dist-packages/keras/callbacks.py:70: UserWarning: Method on_batch_end() is slow compared to the batch update (0.100625). Check your callbacks.\n",
      "  % delta_t_median)\n"
     ]
    },
    {
     "name": "stdout",
     "output_type": "stream",
     "text": [
      "5180/7000 [=====================>........] - ETA: 1s - loss: 0.2760"
     ]
    },
    {
     "name": "stderr",
     "output_type": "stream",
     "text": [
      "/usr/local/lib/python2.7/dist-packages/keras/callbacks.py:70: UserWarning: Method on_batch_end() is slow compared to the batch update (0.105253). Check your callbacks.\n",
      "  % delta_t_median)\n",
      "/usr/local/lib/python2.7/dist-packages/keras/callbacks.py:70: UserWarning: Method on_batch_end() is slow compared to the batch update (0.110217). Check your callbacks.\n",
      "  % delta_t_median)\n"
     ]
    },
    {
     "name": "stdout",
     "output_type": "stream",
     "text": [
      "5460/7000 [======================>.......] - ETA: 1s - loss: 0.2762"
     ]
    },
    {
     "name": "stderr",
     "output_type": "stream",
     "text": [
      "/usr/local/lib/python2.7/dist-packages/keras/callbacks.py:70: UserWarning: Method on_batch_end() is slow compared to the batch update (0.125900). Check your callbacks.\n",
      "  % delta_t_median)\n"
     ]
    },
    {
     "name": "stdout",
     "output_type": "stream",
     "text": [
      "5740/7000 [=======================>......] - ETA: 1s - loss: 0.2761"
     ]
    },
    {
     "name": "stderr",
     "output_type": "stream",
     "text": [
      "/usr/local/lib/python2.7/dist-packages/keras/callbacks.py:70: UserWarning: Method on_batch_end() is slow compared to the batch update (0.129942). Check your callbacks.\n",
      "  % delta_t_median)\n"
     ]
    },
    {
     "name": "stdout",
     "output_type": "stream",
     "text": [
      "6160/7000 [=========================>....] - ETA: 0s - loss: 0.2773"
     ]
    },
    {
     "name": "stderr",
     "output_type": "stream",
     "text": [
      "/usr/local/lib/python2.7/dist-packages/keras/callbacks.py:70: UserWarning: Method on_batch_end() is slow compared to the batch update (0.131751). Check your callbacks.\n",
      "  % delta_t_median)\n"
     ]
    },
    {
     "name": "stdout",
     "output_type": "stream",
     "text": [
      "6860/7000 [============================>.] - ETA: 0s - loss: 0.2765\n",
      " - val roc auc :  0.863263586193\n",
      "7000/7000 [==============================] - 7s - loss: 0.2763 - val_loss: 0.3408\n",
      "Epoch 16/50\n",
      " 420/7000 [>.............................] - ETA: 7s - loss: 0.2687"
     ]
    },
    {
     "name": "stderr",
     "output_type": "stream",
     "text": [
      "/usr/local/lib/python2.7/dist-packages/keras/callbacks.py:70: UserWarning: Method on_batch_end() is slow compared to the batch update (0.138777). Check your callbacks.\n",
      "  % delta_t_median)\n"
     ]
    },
    {
     "name": "stdout",
     "output_type": "stream",
     "text": [
      "1120/7000 [===>..........................] - ETA: 6s - loss: 0.2737\b\b\b\b\b\b\b\b\b\b\b\b\b\b\b\b\b\b\b\b\b\b\b\b\b\b\b\b\b\b\b\b\b\b\b\b\b\b\b\b\b\b\b\b\b\b\b\b\b\b\b\b\b\b\b\b\b\b\b\b\b\b\b\b\b\b\b"
     ]
    },
    {
     "name": "stderr",
     "output_type": "stream",
     "text": [
      "/usr/local/lib/python2.7/dist-packages/keras/callbacks.py:70: UserWarning: Method on_batch_end() is slow compared to the batch update (0.117162). Check your callbacks.\n",
      "  % delta_t_median)\n"
     ]
    },
    {
     "name": "stdout",
     "output_type": "stream",
     "text": [
      "6860/7000 [============================>.] - ETA: 0s - loss: 0.2732\n",
      " - val roc auc :  0.861260885719\n",
      "7000/7000 [==============================] - 8s - loss: 0.2734 - val_loss: 0.3375\n",
      "Epoch 17/50\n",
      "6860/7000 [============================>.] - ETA: 0s - loss: 0.2753\n",
      " - val roc auc :  0.843771239046\n",
      "7000/7000 [==============================] - 6s - loss: 0.2749 - val_loss: 0.3645\n",
      "Epoch 18/50\n",
      " 280/7000 [>.............................] - ETA: 7s - loss: 0.2774"
     ]
    },
    {
     "name": "stderr",
     "output_type": "stream",
     "text": [
      "/usr/local/lib/python2.7/dist-packages/keras/callbacks.py:70: UserWarning: Method on_batch_end() is slow compared to the batch update (0.145941). Check your callbacks.\n",
      "  % delta_t_median)\n"
     ]
    },
    {
     "name": "stdout",
     "output_type": "stream",
     "text": [
      "3920/7000 [===============>..............] - ETA: 3s - loss: 0.2748"
     ]
    },
    {
     "name": "stderr",
     "output_type": "stream",
     "text": [
      "/usr/local/lib/python2.7/dist-packages/keras/callbacks.py:70: UserWarning: Method on_batch_end() is slow compared to the batch update (0.100228). Check your callbacks.\n",
      "  % delta_t_median)\n"
     ]
    },
    {
     "name": "stdout",
     "output_type": "stream",
     "text": [
      "4760/7000 [===================>..........] - ETA: 2s - loss: 0.2735"
     ]
    },
    {
     "name": "stderr",
     "output_type": "stream",
     "text": [
      "/usr/local/lib/python2.7/dist-packages/keras/callbacks.py:70: UserWarning: Method on_batch_end() is slow compared to the batch update (0.103248). Check your callbacks.\n",
      "  % delta_t_median)\n"
     ]
    },
    {
     "name": "stdout",
     "output_type": "stream",
     "text": [
      "6720/7000 [===========================>..] - ETA: 0s - loss: 0.2719"
     ]
    },
    {
     "name": "stderr",
     "output_type": "stream",
     "text": [
      "/usr/local/lib/python2.7/dist-packages/keras/callbacks.py:70: UserWarning: Method on_batch_end() is slow compared to the batch update (0.115547). Check your callbacks.\n",
      "  % delta_t_median)\n"
     ]
    },
    {
     "name": "stdout",
     "output_type": "stream",
     "text": [
      "6860/7000 [============================>.] - ETA: 0s - loss: 0.2718\n",
      " - val roc auc :  0.87238901324\n",
      "7000/7000 [==============================] - 7s - loss: 0.2715 - val_loss: 0.3374\n",
      "Epoch 19/50\n"
     ]
    },
    {
     "name": "stderr",
     "output_type": "stream",
     "text": [
      "/usr/local/lib/python2.7/dist-packages/keras/callbacks.py:70: UserWarning: Method on_batch_end() is slow compared to the batch update (0.126387). Check your callbacks.\n",
      "  % delta_t_median)\n"
     ]
    },
    {
     "name": "stdout",
     "output_type": "stream",
     "text": [
      " 280/7000 [>.............................] - ETA: 3s - loss: 0.2587"
     ]
    },
    {
     "name": "stderr",
     "output_type": "stream",
     "text": [
      "/usr/local/lib/python2.7/dist-packages/keras/callbacks.py:70: UserWarning: Method on_batch_end() is slow compared to the batch update (0.110568). Check your callbacks.\n",
      "  % delta_t_median)\n"
     ]
    },
    {
     "name": "stdout",
     "output_type": "stream",
     "text": [
      " 700/7000 [==>...........................] - ETA: 5s - loss: 0.2633"
     ]
    },
    {
     "name": "stderr",
     "output_type": "stream",
     "text": [
      "/usr/local/lib/python2.7/dist-packages/keras/callbacks.py:70: UserWarning: Method on_batch_end() is slow compared to the batch update (0.103494). Check your callbacks.\n",
      "  % delta_t_median)\n"
     ]
    },
    {
     "name": "stdout",
     "output_type": "stream",
     "text": [
      "4200/7000 [=================>............] - ETA: 2s - loss: 0.2704"
     ]
    },
    {
     "name": "stderr",
     "output_type": "stream",
     "text": [
      "/usr/local/lib/python2.7/dist-packages/keras/callbacks.py:70: UserWarning: Method on_batch_end() is slow compared to the batch update (0.131124). Check your callbacks.\n",
      "  % delta_t_median)\n"
     ]
    },
    {
     "name": "stdout",
     "output_type": "stream",
     "text": [
      "4760/7000 [===================>..........] - ETA: 2s - loss: 0.2695"
     ]
    },
    {
     "name": "stderr",
     "output_type": "stream",
     "text": [
      "/usr/local/lib/python2.7/dist-packages/keras/callbacks.py:70: UserWarning: Method on_batch_end() is slow compared to the batch update (0.133280). Check your callbacks.\n",
      "  % delta_t_median)\n",
      "/usr/local/lib/python2.7/dist-packages/keras/callbacks.py:70: UserWarning: Method on_batch_end() is slow compared to the batch update (0.130977). Check your callbacks.\n",
      "  % delta_t_median)\n"
     ]
    },
    {
     "name": "stdout",
     "output_type": "stream",
     "text": [
      "5040/7000 [====================>.........] - ETA: 2s - loss: 0.2695"
     ]
    },
    {
     "name": "stderr",
     "output_type": "stream",
     "text": [
      "/usr/local/lib/python2.7/dist-packages/keras/callbacks.py:70: UserWarning: Method on_batch_end() is slow compared to the batch update (0.122106). Check your callbacks.\n",
      "  % delta_t_median)\n"
     ]
    },
    {
     "name": "stdout",
     "output_type": "stream",
     "text": [
      "6860/7000 [============================>.] - ETA: 0s - loss: 0.2687\n",
      " - val roc auc :  0.875741950685\n",
      "7000/7000 [==============================] - 7s - loss: 0.2683 - val_loss: 0.3216\n",
      "Epoch 20/50\n",
      " 840/7000 [==>...........................] - ETA: 5s - loss: 0.2742\b\b\b\b\b\b\b\b\b\b\b\b\b\b\b\b\b\b\b\b\b\b\b\b\b\b\b\b\b\b\b\b\b\b\b\b\b\b\b\b\b\b\b\b\b\b\b\b\b\b\b\b\b\b\b\b\b\b\b\b\b\b\b\b\b\b\b"
     ]
    },
    {
     "name": "stderr",
     "output_type": "stream",
     "text": [
      "/usr/local/lib/python2.7/dist-packages/keras/callbacks.py:70: UserWarning: Method on_batch_end() is slow compared to the batch update (0.107730). Check your callbacks.\n",
      "  % delta_t_median)\n",
      "/usr/local/lib/python2.7/dist-packages/keras/callbacks.py:70: UserWarning: Method on_batch_end() is slow compared to the batch update (0.104681). Check your callbacks.\n",
      "  % delta_t_median)\n"
     ]
    },
    {
     "name": "stdout",
     "output_type": "stream",
     "text": [
      "1400/7000 [=====>........................] - ETA: 5s - loss: 0.2725"
     ]
    },
    {
     "name": "stderr",
     "output_type": "stream",
     "text": [
      "/usr/local/lib/python2.7/dist-packages/keras/callbacks.py:70: UserWarning: Method on_batch_end() is slow compared to the batch update (0.101633). Check your callbacks.\n",
      "  % delta_t_median)\n"
     ]
    },
    {
     "name": "stdout",
     "output_type": "stream",
     "text": [
      "3360/7000 [=============>................] - ETA: 3s - loss: 0.2668"
     ]
    },
    {
     "name": "stderr",
     "output_type": "stream",
     "text": [
      "/usr/local/lib/python2.7/dist-packages/keras/callbacks.py:70: UserWarning: Method on_batch_end() is slow compared to the batch update (0.113220). Check your callbacks.\n",
      "  % delta_t_median)\n"
     ]
    },
    {
     "name": "stdout",
     "output_type": "stream",
     "text": [
      "6860/7000 [============================>.] - ETA: 0s - loss: 0.2701\n",
      " - val roc auc :  0.844061222825\n",
      "7000/7000 [==============================] - 7s - loss: 0.2706 - val_loss: 0.3807\n",
      "Epoch 21/50\n",
      "2520/7000 [=========>....................] - ETA: 4s - loss: 0.2772"
     ]
    },
    {
     "name": "stderr",
     "output_type": "stream",
     "text": [
      "/usr/local/lib/python2.7/dist-packages/keras/callbacks.py:70: UserWarning: Method on_batch_end() is slow compared to the batch update (0.100481). Check your callbacks.\n",
      "  % delta_t_median)\n"
     ]
    },
    {
     "name": "stdout",
     "output_type": "stream",
     "text": [
      "6860/7000 [============================>.] - ETA: 0s - loss: 0.2775\n",
      " - val roc auc :  0.858406357894\n",
      "7000/7000 [==============================] - 7s - loss: 0.2773 - val_loss: 0.3473\n",
      "Epoch 22/50\n",
      "6860/7000 [============================>.] - ETA: 0s - loss: 0.2791\n",
      " - val roc auc :  0.84565613361\n",
      "7000/7000 [==============================] - 8s - loss: 0.2795 - val_loss: 0.3679\n",
      "Epoch 23/50\n",
      "6860/7000 [============================>.] - ETA: 0s - loss: 0.2695\n",
      " - val roc auc :  0.864795063026\n",
      "7000/7000 [==============================] - 8s - loss: 0.2697 - val_loss: 0.3463\n",
      "Epoch 24/50\n",
      "6860/7000 [============================>.] - ETA: 0s - loss: 0.2697\n",
      " - val roc auc :  0.850676477785\n",
      "7000/7000 [==============================] - 8s - loss: 0.2695 - val_loss: 0.3491\n",
      "Epoch 25/50\n",
      "6860/7000 [============================>.] - ETA: 0s - loss: 0.2716\n",
      " - val roc auc :  0.870785040462\n",
      "7000/7000 [==============================] - 8s - loss: 0.2719 - val_loss: 0.3353\n",
      "Epoch 26/50\n",
      "1540/7000 [=====>........................] - ETA: 6s - loss: 0.2567"
     ]
    },
    {
     "name": "stderr",
     "output_type": "stream",
     "text": [
      "/usr/local/lib/python2.7/dist-packages/keras/callbacks.py:70: UserWarning: Method on_batch_end() is slow compared to the batch update (0.108134). Check your callbacks.\n",
      "  % delta_t_median)\n",
      "/usr/local/lib/python2.7/dist-packages/keras/callbacks.py:70: UserWarning: Method on_batch_end() is slow compared to the batch update (0.107147). Check your callbacks.\n",
      "  % delta_t_median)\n"
     ]
    },
    {
     "name": "stdout",
     "output_type": "stream",
     "text": [
      "6860/7000 [============================>.] - ETA: 0s - loss: 0.2592\n",
      " - val roc auc :  0.866163423983\n",
      "7000/7000 [==============================] - 8s - loss: 0.2599 - val_loss: 0.3451\n",
      "Epoch 27/50\n",
      "6860/7000 [============================>.] - ETA: 0s - loss: 0.2677\n",
      " - val roc auc :  0.872080905474\n",
      "7000/7000 [==============================] - 8s - loss: 0.2676 - val_loss: 0.3248\n",
      "Epoch 28/50\n",
      "6860/7000 [============================>.] - ETA: 0s - loss: 0.2610\n",
      " - val roc auc :  0.852072024721\n",
      "7000/7000 [==============================] - 9s - loss: 0.2611 - val_loss: 0.3558\n",
      "Epoch 29/50\n",
      "6860/7000 [============================>.] - ETA: 0s - loss: 0.2596\n",
      " - val roc auc :  0.874582015569\n",
      "7000/7000 [==============================] - 9s - loss: 0.2593 - val_loss: 0.3409\n",
      "Epoch 30/50\n",
      "6860/7000 [============================>.] - ETA: 0s - loss: 0.2672\n",
      " - val roc auc :  0.873911428079\n",
      "7000/7000 [==============================] - 8s - loss: 0.2673 - val_loss: 0.3265\n",
      "Epoch 00029: early stopping\n",
      "Training for subject: 8\n",
      "Epoch 1/50\n",
      "6860/7000 [============================>.] - ETA: 0s - loss: 0.6479\n",
      " - val roc auc :  0.770241157019\n",
      "7000/7000 [==============================] - 6s - loss: 0.6451 - val_loss: 0.5337\n",
      "Epoch 2/50\n",
      " 280/7000 [>.............................] - ETA: 3s - loss: 0.5330"
     ]
    },
    {
     "name": "stderr",
     "output_type": "stream",
     "text": [
      "/usr/local/lib/python2.7/dist-packages/keras/callbacks.py:70: UserWarning: Method on_batch_end() is slow compared to the batch update (0.123738). Check your callbacks.\n",
      "  % delta_t_median)\n"
     ]
    },
    {
     "name": "stdout",
     "output_type": "stream",
     "text": [
      " 560/7000 [=>............................] - ETA: 4s - loss: 0.5346"
     ]
    },
    {
     "name": "stderr",
     "output_type": "stream",
     "text": [
      "/usr/local/lib/python2.7/dist-packages/keras/callbacks.py:70: UserWarning: Method on_batch_end() is slow compared to the batch update (0.119127). Check your callbacks.\n",
      "  % delta_t_median)\n"
     ]
    },
    {
     "name": "stdout",
     "output_type": "stream",
     "text": [
      "6860/7000 [============================>.] - ETA: 0s - loss: 0.4867\n",
      " - val roc auc :  0.831165035572\n",
      "7000/7000 [==============================] - 5s - loss: 0.4858 - val_loss: 0.4469\n",
      "Epoch 3/50\n",
      "6860/7000 [============================>.] - ETA: 0s - loss: 0.4208\n",
      " - val roc auc :  0.849652627008\n",
      "7000/7000 [==============================] - 5s - loss: 0.4206 - val_loss: 0.4176\n",
      "Epoch 4/50\n",
      "6860/7000 [============================>.] - ETA: 0s - loss: 0.3793\n",
      " - val roc auc :  0.888089114533\n",
      "7000/7000 [==============================] - 5s - loss: 0.3783 - val_loss: 0.3559\n",
      "Epoch 5/50\n",
      "6860/7000 [============================>.] - ETA: 0s - loss: 0.3511\n",
      " - val roc auc :  0.89577140185\n",
      "7000/7000 [==============================] - 6s - loss: 0.3507 - val_loss: 0.3314\n",
      "Epoch 6/50\n",
      "6860/7000 [============================>.] - ETA: 0s - loss: 0.3381\n",
      " - val roc auc :  0.902217842947\n",
      "7000/7000 [==============================] - 7s - loss: 0.3380 - val_loss: 0.3191\n",
      "Epoch 7/50\n",
      "6860/7000 [============================>.] - ETA: 0s - loss: 0.3292\n",
      " - val roc auc :  0.918283843816\n",
      "7000/7000 [==============================] - 6s - loss: 0.3293 - val_loss: 0.2976\n",
      "Epoch 8/50\n",
      "6860/7000 [============================>.] - ETA: 0s - loss: 0.3172\n",
      " - val roc auc :  0.910234142757\n",
      "7000/7000 [==============================] - 7s - loss: 0.3173 - val_loss: 0.3120\n",
      "Epoch 9/50\n",
      "6860/7000 [============================>.] - ETA: 0s - loss: 0.3184\n",
      " - val roc auc :  0.908113163432\n",
      "7000/7000 [==============================] - 7s - loss: 0.3189 - val_loss: 0.3182\n",
      "Epoch 10/50\n",
      "6860/7000 [============================>.] - ETA: 0s - loss: 0.3040\n",
      " - val roc auc :  0.916605431043\n",
      "7000/7000 [==============================] - 7s - loss: 0.3041 - val_loss: 0.2978\n",
      "Epoch 11/50\n",
      "6860/7000 [============================>.] - ETA: 0s - loss: 0.2981\n",
      " - val roc auc :  0.923795049935\n",
      "7000/7000 [==============================] - 5s - loss: 0.2976 - val_loss: 0.2885\n",
      "Epoch 12/50\n",
      "6860/7000 [============================>.] - ETA: 0s - loss: 0.2956\n",
      " - val roc auc :  0.901850429206\n",
      "7000/7000 [==============================] - 7s - loss: 0.2957 - val_loss: 0.3237\n",
      "Epoch 13/50\n",
      "6860/7000 [============================>.] - ETA: 0s - loss: 0.2970\n",
      " - val roc auc :  0.934767360299\n",
      "7000/7000 [==============================] - 7s - loss: 0.2969 - val_loss: 0.2692\n",
      "Epoch 14/50\n",
      "6860/7000 [============================>.] - ETA: 0s - loss: 0.2938\n",
      " - val roc auc :  0.923845151809\n",
      "7000/7000 [==============================] - 6s - loss: 0.2938 - val_loss: 0.2817\n",
      "Epoch 15/50\n",
      "6860/7000 [============================>.] - ETA: 0s - loss: 0.2966\n",
      " - val roc auc :  0.932462674104\n",
      "7000/7000 [==============================] - 7s - loss: 0.2965 - val_loss: 0.2689\n",
      "Epoch 16/50\n",
      "6860/7000 [============================>.] - ETA: 0s - loss: 0.3041\n",
      " - val roc auc :  0.924354520859\n",
      "7000/7000 [==============================] - 6s - loss: 0.3037 - val_loss: 0.2835\n",
      "Epoch 17/50\n",
      "6860/7000 [============================>.] - ETA: 0s - loss: 0.2884\n",
      " - val roc auc :  0.928604829821\n",
      "7000/7000 [==============================] - 6s - loss: 0.2888 - val_loss: 0.2766\n",
      "Epoch 18/50\n",
      " 420/7000 [>.............................] - ETA: 5s - loss: 0.2829"
     ]
    },
    {
     "name": "stderr",
     "output_type": "stream",
     "text": [
      "/usr/local/lib/python2.7/dist-packages/keras/callbacks.py:70: UserWarning: Method on_batch_end() is slow compared to the batch update (0.144052). Check your callbacks.\n",
      "  % delta_t_median)\n",
      "/usr/local/lib/python2.7/dist-packages/keras/callbacks.py:70: UserWarning: Method on_batch_end() is slow compared to the batch update (0.136563). Check your callbacks.\n",
      "  % delta_t_median)\n"
     ]
    },
    {
     "name": "stdout",
     "output_type": "stream",
     "text": [
      "\b\b\b\b\b\b\b\b\b\b\b\b\b\b\b\b\b\b\b\b\b\b\b\b\b\b\b\b\b\b\b\b\b\b\b\b\b\b\b\b\b\b\b\b\b\b\b\b\b\b\b\b\b\b\b\b\b\b\b\b\b\b\b\b\b\b\b\r",
      " 560/7000 [=>............................] - ETA: 5s - loss: 0.2749"
     ]
    },
    {
     "name": "stderr",
     "output_type": "stream",
     "text": [
      "/usr/local/lib/python2.7/dist-packages/keras/callbacks.py:70: UserWarning: Method on_batch_end() is slow compared to the batch update (0.134344). Check your callbacks.\n",
      "  % delta_t_median)\n",
      "/usr/local/lib/python2.7/dist-packages/keras/callbacks.py:70: UserWarning: Method on_batch_end() is slow compared to the batch update (0.131709). Check your callbacks.\n",
      "  % delta_t_median)\n"
     ]
    },
    {
     "name": "stdout",
     "output_type": "stream",
     "text": [
      "1120/7000 [===>..........................] - ETA: 5s - loss: 0.2883"
     ]
    },
    {
     "name": "stderr",
     "output_type": "stream",
     "text": [
      "/usr/local/lib/python2.7/dist-packages/keras/callbacks.py:70: UserWarning: Method on_batch_end() is slow compared to the batch update (0.129073). Check your callbacks.\n",
      "  % delta_t_median)\n"
     ]
    },
    {
     "name": "stdout",
     "output_type": "stream",
     "text": [
      "6860/7000 [============================>.] - ETA: 0s - loss: 0.2932\n",
      " - val roc auc :  0.921916229667\n",
      "7000/7000 [==============================] - 7s - loss: 0.2934 - val_loss: 0.2892\n",
      "Epoch 19/50\n",
      "6860/7000 [============================>.] - ETA: 0s - loss: 0.2855\n",
      " - val roc auc :  0.925147800528\n",
      "7000/7000 [==============================] - 7s - loss: 0.2849 - val_loss: 0.2823\n",
      "Epoch 20/50\n",
      "6860/7000 [============================>.] - ETA: 0s - loss: 0.2790\n",
      " - val roc auc :  0.933297705334\n",
      "7000/7000 [==============================] - 7s - loss: 0.2791 - val_loss: 0.2691\n",
      "Epoch 21/50\n",
      "6860/7000 [============================>.] - ETA: 0s - loss: 0.2920\n",
      " - val roc auc :  0.935452085908\n",
      "7000/7000 [==============================] - 7s - loss: 0.2914 - val_loss: 0.2749\n",
      "Epoch 22/50\n",
      "6860/7000 [============================>.] - ETA: 0s - loss: 0.2842\n",
      " - val roc auc :  0.919152276295\n",
      "7000/7000 [==============================] - 7s - loss: 0.2852 - val_loss: 0.2902\n",
      "Epoch 23/50\n",
      "6860/7000 [============================>.] - ETA: 0s - loss: 0.2852\n",
      " - val roc auc :  0.930951267577\n",
      "7000/7000 [==============================] - 7s - loss: 0.2850 - val_loss: 0.2726\n",
      "Epoch 24/50\n",
      "6860/7000 [============================>.] - ETA: 0s - loss: 0.2904\n",
      " - val roc auc :  0.927410735161\n",
      "7000/7000 [==============================] - 7s - loss: 0.2899 - val_loss: 0.2862\n",
      "Epoch 25/50\n",
      "6860/7000 [============================>.] - ETA: 0s - loss: 0.2870\n",
      " - val roc auc :  0.921390159992\n",
      "7000/7000 [==============================] - 7s - loss: 0.2862 - val_loss: 0.2897\n",
      "Epoch 26/50\n",
      "6860/7000 [============================>.] - ETA: 0s - loss: 0.2843\n",
      " - val roc auc :  0.937790173352\n",
      "7000/7000 [==============================] - 7s - loss: 0.2840 - val_loss: 0.2612\n",
      "Epoch 27/50\n",
      "6860/7000 [============================>.] - ETA: 0s - loss: 0.2824\n",
      " - val roc auc :  0.938140886469\n",
      "7000/7000 [==============================] - 7s - loss: 0.2822 - val_loss: 0.2597\n",
      "Epoch 28/50\n",
      "6860/7000 [============================>.] - ETA: 0s - loss: 0.2812\n",
      " - val roc auc :  0.9336818197\n",
      "7000/7000 [==============================] - 7s - loss: 0.2810 - val_loss: 0.2736\n",
      "Epoch 29/50\n",
      "6860/7000 [============================>.] - ETA: 0s - loss: 0.2811\n",
      " - val roc auc :  0.924446374294\n",
      "7000/7000 [==============================] - 7s - loss: 0.2815 - val_loss: 0.2853\n",
      "Epoch 30/50\n",
      "6860/7000 [============================>.] - ETA: 0s - loss: 0.2833\n",
      " - val roc auc :  0.934349844684\n",
      "7000/7000 [==============================] - 7s - loss: 0.2828 - val_loss: 0.2703\n",
      "Epoch 31/50\n",
      "6860/7000 [============================>.] - ETA: 0s - loss: 0.2832\n",
      " - val roc auc :  0.93411603594\n",
      "7000/7000 [==============================] - 7s - loss: 0.2829 - val_loss: 0.2720\n",
      "Epoch 32/50\n",
      " 420/7000 [>.............................] - ETA: 5s - loss: 0.2838"
     ]
    },
    {
     "name": "stderr",
     "output_type": "stream",
     "text": [
      "/usr/local/lib/python2.7/dist-packages/keras/callbacks.py:70: UserWarning: Method on_batch_end() is slow compared to the batch update (0.129955). Check your callbacks.\n",
      "  % delta_t_median)\n"
     ]
    },
    {
     "name": "stdout",
     "output_type": "stream",
     "text": [
      "6860/7000 [============================>.] - ETA: 0s - loss: 0.2801\n",
      " - val roc auc :  0.93538528341\n",
      "7000/7000 [==============================] - 7s - loss: 0.2801 - val_loss: 0.2631\n",
      "Epoch 33/50\n",
      "6860/7000 [============================>.] - ETA: 0s - loss: 0.2807\n",
      " - val roc auc :  0.939209726444\n",
      "7000/7000 [==============================] - 7s - loss: 0.2805 - val_loss: 0.2570\n",
      "Epoch 34/50\n",
      "6860/7000 [============================>.] - ETA: 0s - loss: 0.2725\n",
      " - val roc auc :  0.935794448712\n",
      "7000/7000 [==============================] - 6s - loss: 0.2731 - val_loss: 0.2736\n",
      "Epoch 35/50\n",
      "6860/7000 [============================>.] - ETA: 0s - loss: 0.2782\n",
      " - val roc auc :  0.923861852433\n",
      "7000/7000 [==============================] - 6s - loss: 0.2781 - val_loss: 0.2974\n",
      "Epoch 36/50\n",
      "6860/7000 [============================>.] - ETA: 0s - loss: 0.2811\n",
      " - val roc auc :  0.931435585691\n",
      "7000/7000 [==============================] - 6s - loss: 0.2816 - val_loss: 0.2734\n",
      "Epoch 37/50\n",
      "6860/7000 [============================>.] - ETA: 0s - loss: 0.2771\n",
      " - val roc auc :  0.93778182304\n",
      "7000/7000 [==============================] - 8s - loss: 0.2769 - val_loss: 0.2660\n",
      "Epoch 38/50\n",
      "6860/7000 [============================>.] - ETA: 0s - loss: 0.2736\n",
      " - val roc auc :  0.932178763486\n",
      "7000/7000 [==============================] - 7s - loss: 0.2739 - val_loss: 0.2697\n",
      "Epoch 39/50\n",
      "6860/7000 [============================>.] - ETA: 0s - loss: 0.2719\n",
      " - val roc auc :  0.940812986406\n",
      "7000/7000 [==============================] - 6s - loss: 0.2726 - val_loss: 0.2568\n",
      "Epoch 40/50\n",
      "6860/7000 [============================>.] - ETA: 0s - loss: 0.2739\n",
      " - val roc auc :  0.928730084505\n",
      "7000/7000 [==============================] - 7s - loss: 0.2746 - val_loss: 0.2733\n",
      "Epoch 41/50\n",
      "6860/7000 [============================>.] - ETA: 0s - loss: 0.2755\n",
      " - val roc auc :  0.9420989345\n",
      "7000/7000 [==============================] - 7s - loss: 0.2750 - val_loss: 0.2555\n",
      "Epoch 42/50\n",
      "6860/7000 [============================>.] - ETA: 0s - loss: 0.2760\n",
      " - val roc auc :  0.937915428037\n",
      "7000/7000 [==============================] - 7s - loss: 0.2760 - val_loss: 0.2625\n",
      "Epoch 43/50\n",
      " 280/7000 [>.............................] - ETA: 4s - loss: 0.2709"
     ]
    },
    {
     "name": "stderr",
     "output_type": "stream",
     "text": [
      "/usr/local/lib/python2.7/dist-packages/keras/callbacks.py:70: UserWarning: Method on_batch_end() is slow compared to the batch update (0.136256). Check your callbacks.\n",
      "  % delta_t_median)\n"
     ]
    },
    {
     "name": "stdout",
     "output_type": "stream",
     "text": [
      "6860/7000 [============================>.] - ETA: 0s - loss: 0.2825\n",
      " - val roc auc :  0.938742108955\n",
      "7000/7000 [==============================] - 7s - loss: 0.2827 - val_loss: 0.2581\n",
      "Epoch 44/50\n",
      "6860/7000 [============================>.] - ETA: 0s - loss: 0.2742\n",
      " - val roc auc :  0.925949430509\n",
      "7000/7000 [==============================] - 7s - loss: 0.2738 - val_loss: 0.2867\n",
      "Epoch 45/50\n",
      "6860/7000 [============================>.] - ETA: 0s - loss: 0.2747\n",
      " - val roc auc :  0.934308093123\n",
      "7000/7000 [==============================] - 6s - loss: 0.2748 - val_loss: 0.2680\n",
      "Epoch 46/50\n",
      "6860/7000 [============================>.] - ETA: 0s - loss: 0.2811\n",
      " - val roc auc :  0.930433548215\n",
      "7000/7000 [==============================] - 7s - loss: 0.2807 - val_loss: 0.2775\n",
      "Epoch 47/50\n",
      "6860/7000 [============================>.] - ETA: 0s - loss: 0.2733\n",
      " - val roc auc :  0.928178963893\n",
      "7000/7000 [==============================] - 7s - loss: 0.2730 - val_loss: 0.2797\n",
      "Epoch 48/50\n",
      " 420/7000 [>.............................] - ETA: 7s - loss: 0.2718"
     ]
    },
    {
     "name": "stderr",
     "output_type": "stream",
     "text": [
      "/usr/local/lib/python2.7/dist-packages/keras/callbacks.py:70: UserWarning: Method on_batch_end() is slow compared to the batch update (0.133511). Check your callbacks.\n",
      "  % delta_t_median)\n"
     ]
    },
    {
     "name": "stdout",
     "output_type": "stream",
     "text": [
      "5040/7000 [====================>.........] - ETA: 1s - loss: 0.2739"
     ]
    },
    {
     "name": "stderr",
     "output_type": "stream",
     "text": [
      "/usr/local/lib/python2.7/dist-packages/keras/callbacks.py:70: UserWarning: Method on_batch_end() is slow compared to the batch update (0.117311). Check your callbacks.\n",
      "  % delta_t_median)\n"
     ]
    },
    {
     "name": "stdout",
     "output_type": "stream",
     "text": [
      "5460/7000 [======================>.......] - ETA: 1s - loss: 0.2748"
     ]
    },
    {
     "name": "stderr",
     "output_type": "stream",
     "text": [
      "/usr/local/lib/python2.7/dist-packages/keras/callbacks.py:70: UserWarning: Method on_batch_end() is slow compared to the batch update (0.118281). Check your callbacks.\n",
      "  % delta_t_median)\n"
     ]
    },
    {
     "name": "stdout",
     "output_type": "stream",
     "text": [
      "6860/7000 [============================>.] - ETA: 0s - loss: 0.2735\n",
      " - val roc auc :  0.919736798156\n",
      "7000/7000 [==============================] - 6s - loss: 0.2729 - val_loss: 0.2902\n",
      "Epoch 49/50\n",
      "6860/7000 [============================>.] - ETA: 0s - loss: 0.2802\n",
      " - val roc auc :  0.943593640402\n",
      "7000/7000 [==============================] - 5s - loss: 0.2802 - val_loss: 0.2496\n",
      "Epoch 50/50\n",
      "6860/7000 [============================>.] - ETA: 0s - loss: 0.2672\n",
      " - val roc auc :  0.932654731287\n",
      "7000/7000 [==============================] - 5s - loss: 0.2672 - val_loss: 0.2717\n",
      "Epoch 00029: early stopping\n",
      "Training for subject: 9\n",
      "Epoch 1/50\n",
      "6860/7000 [============================>.] - ETA: 0s - loss: 0.6083\n",
      " - val roc auc :  0.808170180723\n",
      "7000/7000 [==============================] - 6s - loss: 0.6065 - val_loss: 0.4763\n",
      "Epoch 2/50\n",
      " 280/7000 [>.............................] - ETA: 3s - loss: 0.4710"
     ]
    },
    {
     "name": "stderr",
     "output_type": "stream",
     "text": [
      "/usr/local/lib/python2.7/dist-packages/keras/callbacks.py:70: UserWarning: Method on_batch_end() is slow compared to the batch update (0.125790). Check your callbacks.\n",
      "  % delta_t_median)\n"
     ]
    },
    {
     "name": "stdout",
     "output_type": "stream",
     "text": [
      " 700/7000 [==>...........................] - ETA: 5s - loss: 0.4776"
     ]
    },
    {
     "name": "stderr",
     "output_type": "stream",
     "text": [
      "/usr/local/lib/python2.7/dist-packages/keras/callbacks.py:70: UserWarning: Method on_batch_end() is slow compared to the batch update (0.106028). Check your callbacks.\n",
      "  % delta_t_median)\n"
     ]
    },
    {
     "name": "stdout",
     "output_type": "stream",
     "text": [
      "6860/7000 [============================>.] - ETA: 0s - loss: 0.4514\n",
      " - val roc auc :  0.847489389376\n",
      "7000/7000 [==============================] - 6s - loss: 0.4503 - val_loss: 0.4086\n",
      "Epoch 3/50\n",
      "6860/7000 [============================>.] - ETA: 0s - loss: 0.3950\n",
      " - val roc auc :  0.863345427163\n",
      "7000/7000 [==============================] - 6s - loss: 0.3941 - val_loss: 0.3560\n",
      "Epoch 4/50\n",
      "6860/7000 [============================>.] - ETA: 0s - loss: 0.3400\n",
      " - val roc auc :  0.885747535597\n",
      "7000/7000 [==============================] - 7s - loss: 0.3399 - val_loss: 0.3352\n",
      "Epoch 5/50\n",
      "6860/7000 [============================>.] - ETA: 0s - loss: 0.2999\n",
      " - val roc auc :  0.887818318729\n",
      "7000/7000 [==============================] - 8s - loss: 0.2995 - val_loss: 0.3424\n",
      "Epoch 6/50\n",
      "6860/7000 [============================>.] - ETA: 0s - loss: 0.2777\n",
      " - val roc auc :  0.90576225356\n",
      "7000/7000 [==============================] - 8s - loss: 0.2785 - val_loss: 0.3084\n",
      "Epoch 7/50\n",
      "6860/7000 [============================>.] - ETA: 0s - loss: 0.2713\n",
      " - val roc auc :  0.889581051479\n",
      "7000/7000 [==============================] - 7s - loss: 0.2709 - val_loss: 0.3418\n",
      "Epoch 8/50\n",
      "6860/7000 [============================>.] - ETA: 0s - loss: 0.2603\n",
      " - val roc auc :  0.885918674699\n",
      "7000/7000 [==============================] - 7s - loss: 0.2602 - val_loss: 0.3656\n",
      "Epoch 9/50\n",
      "6860/7000 [============================>.] - ETA: 0s - loss: 0.2559\n",
      " - val roc auc :  0.903520331325\n",
      "7000/7000 [==============================] - 7s - loss: 0.2555 - val_loss: 0.3050\n",
      "Epoch 10/50\n",
      "5180/7000 [=====================>........] - ETA: 1s - loss: 0.2547"
     ]
    },
    {
     "name": "stderr",
     "output_type": "stream",
     "text": [
      "/usr/local/lib/python2.7/dist-packages/keras/callbacks.py:70: UserWarning: Method on_batch_end() is slow compared to the batch update (0.130241). Check your callbacks.\n",
      "  % delta_t_median)\n"
     ]
    },
    {
     "name": "stdout",
     "output_type": "stream",
     "text": [
      "5600/7000 [=======================>......] - ETA: 1s - loss: 0.2542"
     ]
    },
    {
     "name": "stderr",
     "output_type": "stream",
     "text": [
      "/usr/local/lib/python2.7/dist-packages/keras/callbacks.py:70: UserWarning: Method on_batch_end() is slow compared to the batch update (0.131081). Check your callbacks.\n",
      "  % delta_t_median)\n"
     ]
    },
    {
     "name": "stdout",
     "output_type": "stream",
     "text": [
      "6160/7000 [=========================>....] - ETA: 0s - loss: 0.2536"
     ]
    },
    {
     "name": "stderr",
     "output_type": "stream",
     "text": [
      "/usr/local/lib/python2.7/dist-packages/keras/callbacks.py:70: UserWarning: Method on_batch_end() is slow compared to the batch update (0.128358). Check your callbacks.\n",
      "  % delta_t_median)\n"
     ]
    },
    {
     "name": "stdout",
     "output_type": "stream",
     "text": [
      "6860/7000 [============================>.] - ETA: 0s - loss: 0.2517\n",
      " - val roc auc :  0.901030257393\n",
      "7000/7000 [==============================] - 7s - loss: 0.2517 - val_loss: 0.3122\n",
      "Epoch 11/50\n",
      " 420/7000 [>.............................] - ETA: 5s - loss: 0.2488"
     ]
    },
    {
     "name": "stderr",
     "output_type": "stream",
     "text": [
      "/usr/local/lib/python2.7/dist-packages/keras/callbacks.py:70: UserWarning: Method on_batch_end() is slow compared to the batch update (0.142777). Check your callbacks.\n",
      "  % delta_t_median)\n"
     ]
    },
    {
     "name": "stdout",
     "output_type": "stream",
     "text": [
      "6860/7000 [============================>.] - ETA: 0s - loss: 0.2531\n",
      " - val roc auc :  0.898668537788\n",
      "7000/7000 [==============================] - 7s - loss: 0.2530 - val_loss: 0.3566\n",
      "Epoch 12/50\n",
      "6860/7000 [============================>.] - ETA: 0s - loss: 0.2477\n",
      " - val roc auc :  0.896717552026\n",
      "7000/7000 [==============================] - 7s - loss: 0.2476 - val_loss: 0.3378\n",
      "Epoch 13/50\n",
      " 700/7000 [==>...........................] - ETA: 5s - loss: 0.2306"
     ]
    },
    {
     "name": "stderr",
     "output_type": "stream",
     "text": [
      "/usr/local/lib/python2.7/dist-packages/keras/callbacks.py:70: UserWarning: Method on_batch_end() is slow compared to the batch update (0.126503). Check your callbacks.\n",
      "  % delta_t_median)\n"
     ]
    },
    {
     "name": "stdout",
     "output_type": "stream",
     "text": [
      "6860/7000 [============================>.] - ETA: 0s - loss: 0.2443\n",
      " - val roc auc :  0.901475219058\n",
      "7000/7000 [==============================] - 7s - loss: 0.2447 - val_loss: 0.3102\n",
      "Epoch 14/50\n",
      "6860/7000 [============================>.] - ETA: 0s - loss: 0.2413\n",
      " - val roc auc :  0.896332489047\n",
      "7000/7000 [==============================] - 7s - loss: 0.2418 - val_loss: 0.4058\n",
      "Epoch 15/50\n",
      "6860/7000 [============================>.] - ETA: 0s - loss: 0.2418\n",
      " - val roc auc :  0.924921276013\n",
      "7000/7000 [==============================] - 8s - loss: 0.2415 - val_loss: 0.3130\n",
      "Epoch 16/50\n",
      " 140/7000 [..............................] - ETA: 1s - loss: 0.1983\b\b\b\b\b\b\b\b\b\b\b\b\b\b\b\b\b\b\b\b\b\b\b\b\b\b\b\b\b\b\b\b\b\b\b\b\b\b\b\b\b\b\b\b\b\b\b\b\b\b\b\b\b\b\b\b\b\b\b\b\b\b\b\b\b\b\b"
     ]
    },
    {
     "name": "stderr",
     "output_type": "stream",
     "text": [
      "/usr/local/lib/python2.7/dist-packages/keras/callbacks.py:70: UserWarning: Method on_batch_end() is slow compared to the batch update (0.132249). Check your callbacks.\n",
      "  % delta_t_median)\n"
     ]
    },
    {
     "name": "stdout",
     "output_type": "stream",
     "text": [
      " 420/7000 [>.............................] - ETA: 6s - loss: 0.2154"
     ]
    },
    {
     "name": "stderr",
     "output_type": "stream",
     "text": [
      "/usr/local/lib/python2.7/dist-packages/keras/callbacks.py:70: UserWarning: Method on_batch_end() is slow compared to the batch update (0.158396). Check your callbacks.\n",
      "  % delta_t_median)\n"
     ]
    },
    {
     "name": "stdout",
     "output_type": "stream",
     "text": [
      "6860/7000 [============================>.] - ETA: 0s - loss: 0.2345\n",
      " - val roc auc :  0.908012732749\n",
      "7000/7000 [==============================] - 8s - loss: 0.2348 - val_loss: 0.3180\n",
      "Epoch 17/50\n",
      "6860/7000 [============================>.] - ETA: 0s - loss: 0.2327\n",
      " - val roc auc :  0.911349945235\n",
      "7000/7000 [==============================] - 8s - loss: 0.2327 - val_loss: 0.2977\n",
      "Epoch 18/50\n",
      "6860/7000 [============================>.] - ETA: 0s - loss: 0.2340\n",
      " - val roc auc :  0.895134515334\n",
      "7000/7000 [==============================] - 7s - loss: 0.2337 - val_loss: 0.3248\n",
      "Epoch 19/50\n",
      "6860/7000 [============================>.] - ETA: 0s - loss: 0.2335\n",
      " - val roc auc :  0.882196399233\n",
      "7000/7000 [==============================] - 7s - loss: 0.2332 - val_loss: 0.3802\n",
      "Epoch 20/50\n",
      " 560/7000 [=>............................] - ETA: 8s - loss: 0.2265"
     ]
    },
    {
     "name": "stderr",
     "output_type": "stream",
     "text": [
      "/usr/local/lib/python2.7/dist-packages/keras/callbacks.py:70: UserWarning: Method on_batch_end() is slow compared to the batch update (0.146402). Check your callbacks.\n",
      "  % delta_t_median)\n"
     ]
    },
    {
     "name": "stdout",
     "output_type": "stream",
     "text": [
      "6860/7000 [============================>.] - ETA: 0s - loss: 0.2348\n",
      " - val roc auc :  0.909048124315\n",
      "7000/7000 [==============================] - 8s - loss: 0.2356 - val_loss: 0.3244\n",
      "Epoch 21/50\n",
      "6860/7000 [============================>.] - ETA: 0s - loss: 0.2358\n",
      " - val roc auc :  0.903160939211\n",
      "7000/7000 [==============================] - 8s - loss: 0.2368 - val_loss: 0.3261\n",
      "Epoch 22/50\n",
      "6860/7000 [============================>.] - ETA: 0s - loss: 0.2479\n",
      " - val roc auc :  0.900499726177\n",
      "7000/7000 [==============================] - 8s - loss: 0.2472 - val_loss: 0.3199\n",
      "Epoch 23/50\n",
      "6860/7000 [============================>.] - ETA: 0s - loss: 0.2304\n",
      " - val roc auc :  0.918366648412\n",
      "7000/7000 [==============================] - 8s - loss: 0.2308 - val_loss: 0.3018\n",
      "Epoch 24/50\n",
      "6860/7000 [============================>.] - ETA: 0s - loss: 0.2206\n",
      " - val roc auc :  0.889555380613\n",
      "7000/7000 [==============================] - 6s - loss: 0.2205 - val_loss: 0.3634\n",
      "Epoch 25/50\n",
      "6860/7000 [============================>.] - ETA: 0s - loss: 0.2228\n",
      " - val roc auc :  0.915012322015\n",
      "7000/7000 [==============================] - 8s - loss: 0.2229 - val_loss: 0.2953\n",
      "Epoch 26/50\n",
      "6860/7000 [============================>.] - ETA: 0s - loss: 0.2234\n",
      " - val roc auc :  0.902253901972\n",
      "7000/7000 [==============================] - 8s - loss: 0.2231 - val_loss: 0.3580\n",
      "Epoch 00025: early stopping\n",
      "Training for subject: 10\n",
      "Epoch 1/50\n",
      "6860/7000 [============================>.] - ETA: 0s - loss: 0.6057\n",
      " - val roc auc :  0.800955013823\n",
      "7000/7000 [==============================] - 8s - loss: 0.6033 - val_loss: 0.4566\n",
      "Epoch 2/50\n",
      " 420/7000 [>.............................] - ETA: 4s - loss: 0.4993"
     ]
    },
    {
     "name": "stderr",
     "output_type": "stream",
     "text": [
      "/usr/local/lib/python2.7/dist-packages/keras/callbacks.py:70: UserWarning: Method on_batch_end() is slow compared to the batch update (0.184555). Check your callbacks.\n",
      "  % delta_t_median)\n"
     ]
    },
    {
     "name": "stdout",
     "output_type": "stream",
     "text": [
      "6860/7000 [============================>.] - ETA: 0s - loss: 0.4512\n",
      " - val roc auc :  0.857597212954\n",
      "7000/7000 [==============================] - 8s - loss: 0.4505 - val_loss: 0.4221\n",
      "Epoch 3/50\n",
      "6860/7000 [============================>.] - ETA: 0s - loss: 0.3944\n",
      " - val roc auc :  0.885762321152\n",
      "7000/7000 [==============================] - 8s - loss: 0.3934 - val_loss: 0.3446\n",
      "Epoch 4/50\n",
      "6860/7000 [============================>.] - ETA: 0s - loss: 0.3493\n",
      " - val roc auc :  0.907341127124\n",
      "7000/7000 [==============================] - 8s - loss: 0.3493 - val_loss: 0.3351\n",
      "Epoch 5/50\n",
      "6860/7000 [============================>.] - ETA: 0s - loss: 0.3161\n",
      " - val roc auc :  0.906743160212\n",
      "7000/7000 [==============================] - 8s - loss: 0.3158 - val_loss: 0.3230\n",
      "Epoch 6/50\n",
      "6860/7000 [============================>.] - ETA: 0s - loss: 0.2915\n",
      " - val roc auc :  0.921458345972\n",
      "7000/7000 [==============================] - 8s - loss: 0.2908 - val_loss: 0.3016\n",
      "Epoch 7/50\n",
      "6860/7000 [============================>.] - ETA: 0s - loss: 0.2831\n",
      " - val roc auc :  0.917411236578\n",
      "7000/7000 [==============================] - 8s - loss: 0.2831 - val_loss: 0.3364\n",
      "Epoch 8/50\n",
      "6860/7000 [============================>.] - ETA: 0s - loss: 0.2904\n",
      " - val roc auc :  0.939302025288\n",
      "7000/7000 [==============================] - 7s - loss: 0.2901 - val_loss: 0.2493\n",
      "Epoch 9/50\n",
      "6860/7000 [============================>.] - ETA: 0s - loss: 0.2646\n",
      " - val roc auc :  0.936962154761\n",
      "7000/7000 [==============================] - 8s - loss: 0.2647 - val_loss: 0.2630\n",
      "Epoch 10/50\n",
      "6860/7000 [============================>.] - ETA: 0s - loss: 0.2546\n",
      " - val roc auc :  0.919092476883\n",
      "7000/7000 [==============================] - 8s - loss: 0.2543 - val_loss: 0.2847\n",
      "Epoch 11/50\n",
      " 280/7000 [>.............................] - ETA: 7s - loss: 0.2602"
     ]
    },
    {
     "name": "stderr",
     "output_type": "stream",
     "text": [
      "/usr/local/lib/python2.7/dist-packages/keras/callbacks.py:70: UserWarning: Method on_batch_end() is slow compared to the batch update (0.117061). Check your callbacks.\n",
      "  % delta_t_median)\n"
     ]
    },
    {
     "name": "stdout",
     "output_type": "stream",
     "text": [
      "6860/7000 [============================>.] - ETA: 0s - loss: 0.2681\n",
      " - val roc auc :  0.922116976194\n",
      "7000/7000 [==============================] - 8s - loss: 0.2676 - val_loss: 0.2924\n",
      "Epoch 12/50\n",
      "6860/7000 [============================>.] - ETA: 0s - loss: 0.2532\n",
      " - val roc auc :  0.93560156338\n",
      "7000/7000 [==============================] - 7s - loss: 0.2539 - val_loss: 0.2697\n",
      "Epoch 13/50\n",
      "6860/7000 [============================>.] - ETA: 0s - loss: 0.2545\n",
      " - val roc auc :  0.921986983387\n",
      "7000/7000 [==============================] - 8s - loss: 0.2541 - val_loss: 0.2916\n",
      "Epoch 14/50\n",
      "6860/7000 [============================>.] - ETA: 0s - loss: 0.2590\n",
      " - val roc auc :  0.912055532927\n",
      "7000/7000 [==============================] - 8s - loss: 0.2589 - val_loss: 0.3420\n",
      "Epoch 15/50\n",
      "6860/7000 [============================>.] - ETA: 0s - loss: 0.2562\n",
      " - val roc auc :  0.921319686977\n",
      "7000/7000 [==============================] - 7s - loss: 0.2564 - val_loss: 0.3090\n",
      "Epoch 16/50\n",
      "6860/7000 [============================>.] - ETA: 0s - loss: 0.2574\n",
      " - val roc auc :  0.926502066886\n",
      "7000/7000 [==============================] - 7s - loss: 0.2574 - val_loss: 0.2758\n",
      "Epoch 17/50\n",
      " 980/7000 [===>..........................] - ETA: 6s - loss: 0.2433"
     ]
    },
    {
     "name": "stderr",
     "output_type": "stream",
     "text": [
      "/usr/local/lib/python2.7/dist-packages/keras/callbacks.py:70: UserWarning: Method on_batch_end() is slow compared to the batch update (0.116318). Check your callbacks.\n",
      "  % delta_t_median)\n",
      "/usr/local/lib/python2.7/dist-packages/keras/callbacks.py:70: UserWarning: Method on_batch_end() is slow compared to the batch update (0.109277). Check your callbacks.\n",
      "  % delta_t_median)\n",
      "/usr/local/lib/python2.7/dist-packages/keras/callbacks.py:70: UserWarning: Method on_batch_end() is slow compared to the batch update (0.102237). Check your callbacks.\n",
      "  % delta_t_median)\n"
     ]
    },
    {
     "name": "stdout",
     "output_type": "stream",
     "text": [
      "6860/7000 [============================>.] - ETA: 0s - loss: 0.2472\n",
      " - val roc auc :  0.927091367611\n",
      "7000/7000 [==============================] - 6s - loss: 0.2463 - val_loss: 0.2869\n",
      "Epoch 18/50\n",
      "5460/7000 [======================>.......] - ETA: 1s - loss: 0.2395\b\b\b\b\b\b\b\b\b\b\b\b\b\b\b\b\b\b\b\b\b\b\b\b\b\b\b\b\b\b\b\b\b\b\b\b\b\b\b\b\b\b\b\b\b\b\b\b\b\b\b\b\b\b\b\b\b\b\b\b\b\b\b\b\b\b\b"
     ]
    },
    {
     "name": "stderr",
     "output_type": "stream",
     "text": [
      "/usr/local/lib/python2.7/dist-packages/keras/callbacks.py:70: UserWarning: Method on_batch_end() is slow compared to the batch update (0.106990). Check your callbacks.\n",
      "  % delta_t_median)\n"
     ]
    },
    {
     "name": "stdout",
     "output_type": "stream",
     "text": [
      "5880/7000 [========================>.....] - ETA: 1s - loss: 0.2405"
     ]
    },
    {
     "name": "stderr",
     "output_type": "stream",
     "text": [
      "/usr/local/lib/python2.7/dist-packages/keras/callbacks.py:70: UserWarning: Method on_batch_end() is slow compared to the batch update (0.105579). Check your callbacks.\n",
      "  % delta_t_median)\n"
     ]
    },
    {
     "name": "stdout",
     "output_type": "stream",
     "text": [
      "6860/7000 [============================>.] - ETA: 0s - loss: 0.2426\n",
      " - val roc auc :  0.922792938791\n",
      "7000/7000 [==============================] - 7s - loss: 0.2426 - val_loss: 0.3225\n",
      "Epoch 19/50\n",
      " 560/7000 [=>............................] - ETA: 5s - loss: 0.2471\b\b\b\b\b\b\b\b\b\b\b\b\b\b\b\b\b\b\b\b\b\b\b\b\b\b\b\b\b\b\b\b\b\b\b\b\b\b\b\b\b\b\b\b\b\b\b\b\b\b\b\b\b\b\b\b\b\b\b\b\b\b\b\b\b\b\b"
     ]
    },
    {
     "name": "stderr",
     "output_type": "stream",
     "text": [
      "/usr/local/lib/python2.7/dist-packages/keras/callbacks.py:70: UserWarning: Method on_batch_end() is slow compared to the batch update (0.135922). Check your callbacks.\n",
      "  % delta_t_median)\n"
     ]
    },
    {
     "name": "stdout",
     "output_type": "stream",
     "text": [
      "2800/7000 [===========>..................] - ETA: 4s - loss: 0.2421"
     ]
    },
    {
     "name": "stderr",
     "output_type": "stream",
     "text": [
      "/usr/local/lib/python2.7/dist-packages/keras/callbacks.py:70: UserWarning: Method on_batch_end() is slow compared to the batch update (0.115300). Check your callbacks.\n",
      "  % delta_t_median)\n"
     ]
    },
    {
     "name": "stdout",
     "output_type": "stream",
     "text": [
      "6860/7000 [============================>.] - ETA: 0s - loss: 0.2479\n",
      " - val roc auc :  0.911778214939\n",
      "7000/7000 [==============================] - 6s - loss: 0.2476 - val_loss: 0.3318\n",
      "Epoch 00018: early stopping\n",
      "Training for subject: 11\n",
      "Epoch 1/50\n",
      "6860/7000 [============================>.] - ETA: 0s - loss: 0.5995\n",
      " - val roc auc :  0.814469579853\n",
      "7000/7000 [==============================] - 5s - loss: 0.5987 - val_loss: 0.5176\n",
      "Epoch 2/50\n",
      "6860/7000 [============================>.] - ETA: 0s - loss: 0.4709\n",
      " - val roc auc :  0.845369972283\n",
      "7000/7000 [==============================] - 4s - loss: 0.4711 - val_loss: 0.4046\n",
      "Epoch 3/50\n",
      "6860/7000 [============================>.] - ETA: 0s - loss: 0.4024\n",
      " - val roc auc :  0.830047841638\n",
      "7000/7000 [==============================] - 4s - loss: 0.4022 - val_loss: 0.4229\n",
      "Epoch 4/50\n",
      "6860/7000 [============================>.] - ETA: 0s - loss: 0.3601\n",
      " - val roc auc :  0.850437709822\n",
      "7000/7000 [==============================] - 4s - loss: 0.3593 - val_loss: 0.3855\n",
      "Epoch 5/50\n",
      "6860/7000 [============================>.] - ETA: 0s - loss: 0.3279\n",
      " - val roc auc :  0.861954463542\n",
      "7000/7000 [==============================] - 4s - loss: 0.3276 - val_loss: 0.3410\n",
      "Epoch 6/50\n",
      "6860/7000 [============================>.] - ETA: 0s - loss: 0.3085\n",
      " - val roc auc :  0.876590528636\n",
      "7000/7000 [==============================] - 4s - loss: 0.3084 - val_loss: 0.3507\n",
      "Epoch 7/50\n",
      "6860/7000 [============================>.] - ETA: 0s - loss: 0.2968\n",
      " - val roc auc :  0.887155938126\n",
      "7000/7000 [==============================] - 4s - loss: 0.2967 - val_loss: 0.3286\n",
      "Epoch 8/50\n",
      "6860/7000 [============================>.] - ETA: 0s - loss: 0.2955\n",
      " - val roc auc :  0.856118332586\n",
      "7000/7000 [==============================] - 4s - loss: 0.2957 - val_loss: 0.3922\n",
      "Epoch 9/50\n",
      "6860/7000 [============================>.] - ETA: 0s - loss: 0.2918\n",
      " - val roc auc :  0.889177544617\n",
      "7000/7000 [==============================] - 4s - loss: 0.2915 - val_loss: 0.3146\n",
      "Epoch 10/50\n",
      "6860/7000 [============================>.] - ETA: 0s - loss: 0.2905\n",
      " - val roc auc :  0.880487380968\n",
      "7000/7000 [==============================] - 4s - loss: 0.2911 - val_loss: 0.3436\n",
      "Epoch 11/50\n",
      "6860/7000 [============================>.] - ETA: 0s - loss: 0.2902\n",
      " - val roc auc :  0.890256954418\n",
      "7000/7000 [==============================] - 4s - loss: 0.2897 - val_loss: 0.3226\n",
      "Epoch 12/50\n",
      "6860/7000 [============================>.] - ETA: 0s - loss: 0.2934\n",
      " - val roc auc :  0.88333226612\n",
      "7000/7000 [==============================] - 4s - loss: 0.2946 - val_loss: 0.3401\n",
      "Epoch 13/50\n",
      "6860/7000 [============================>.] - ETA: 0s - loss: 0.2857\n",
      " - val roc auc :  0.890531380638\n",
      "7000/7000 [==============================] - 4s - loss: 0.2856 - val_loss: 0.3141\n",
      "Epoch 14/50\n",
      "6860/7000 [============================>.] - ETA: 0s - loss: 0.2877\n",
      " - val roc auc :  0.890467347854\n",
      "7000/7000 [==============================] - 4s - loss: 0.2881 - val_loss: 0.3183\n",
      "Epoch 15/50\n",
      "6860/7000 [============================>.] - ETA: 0s - loss: 0.2799\n",
      " - val roc auc :  0.869464594444\n",
      "7000/7000 [==============================] - 4s - loss: 0.2803 - val_loss: 0.3476\n",
      "Epoch 16/50\n",
      "6860/7000 [============================>.] - ETA: 0s - loss: 0.2825\n",
      " - val roc auc :  0.871605118964\n",
      "7000/7000 [==============================] - 4s - loss: 0.2825 - val_loss: 0.3514\n",
      "Epoch 17/50\n",
      "6860/7000 [============================>.] - ETA: 0s - loss: 0.2817\n",
      " - val roc auc :  0.893851937906\n",
      "7000/7000 [==============================] - 4s - loss: 0.2817 - val_loss: 0.3100\n",
      "Epoch 18/50\n",
      "6860/7000 [============================>.] - ETA: 0s - loss: 0.2777\n",
      " - val roc auc :  0.87864872529\n",
      "7000/7000 [==============================] - 4s - loss: 0.2776 - val_loss: 0.3391\n",
      "Epoch 19/50\n",
      "6860/7000 [============================>.] - ETA: 0s - loss: 0.2740\n",
      " - val roc auc :  0.893074396948\n",
      "7000/7000 [==============================] - 4s - loss: 0.2735 - val_loss: 0.3114\n",
      "Epoch 20/50\n",
      "6860/7000 [============================>.] - ETA: 0s - loss: 0.2729\n",
      " - val roc auc :  0.884686102141\n",
      "7000/7000 [==============================] - 4s - loss: 0.2728 - val_loss: 0.3358\n",
      "Epoch 21/50\n",
      "6860/7000 [============================>.] - ETA: 0s - loss: 0.2746\n",
      " - val roc auc :  0.874934823773\n",
      "7000/7000 [==============================] - 4s - loss: 0.2745 - val_loss: 0.3529\n",
      "Epoch 22/50\n",
      "6860/7000 [============================>.] - ETA: 0s - loss: 0.2783\n",
      " - val roc auc :  0.881228331763\n",
      "7000/7000 [==============================] - 4s - loss: 0.2778 - val_loss: 0.3361\n",
      "Epoch 23/50\n",
      "6860/7000 [============================>.] - ETA: 0s - loss: 0.2716\n",
      " - val roc auc :  0.885774659483\n",
      "7000/7000 [==============================] - 4s - loss: 0.2719 - val_loss: 0.3180\n",
      "Epoch 24/50\n",
      "6860/7000 [============================>.] - ETA: 0s - loss: 0.2730\n",
      " - val roc auc :  0.897959183673\n",
      "7000/7000 [==============================] - 4s - loss: 0.2733 - val_loss: 0.3086\n",
      "Epoch 25/50\n",
      "6860/7000 [============================>.] - ETA: 0s - loss: 0.2728\n",
      " - val roc auc :  0.885088593932\n",
      "7000/7000 [==============================] - 4s - loss: 0.2726 - val_loss: 0.3323\n",
      "Epoch 26/50\n",
      "6860/7000 [============================>.] - ETA: 0s - loss: 0.2717\n",
      " - val roc auc :  0.885921020134\n",
      "7000/7000 [==============================] - 4s - loss: 0.2714 - val_loss: 0.3174\n",
      "Epoch 27/50\n",
      "6860/7000 [============================>.] - ETA: 0s - loss: 0.2756\n",
      " - val roc auc :  0.872053348457\n",
      "7000/7000 [==============================] - 4s - loss: 0.2761 - val_loss: 0.3338\n",
      "Epoch 28/50\n",
      "6860/7000 [============================>.] - ETA: 0s - loss: 0.2652\n",
      " - val roc auc :  0.878740200697\n",
      "7000/7000 [==============================] - 4s - loss: 0.2658 - val_loss: 0.3381\n",
      "Epoch 29/50\n",
      "6860/7000 [============================>.] - ETA: 0s - loss: 0.2700\n",
      " - val roc auc :  0.883753052992\n",
      "7000/7000 [==============================] - 4s - loss: 0.2692 - val_loss: 0.3323\n",
      "Epoch 30/50\n",
      "6860/7000 [============================>.] - ETA: 0s - loss: 0.2746\n",
      " - val roc auc :  0.869299938711\n",
      "7000/7000 [==============================] - 4s - loss: 0.2739 - val_loss: 0.3414\n",
      "Epoch 31/50\n",
      "6860/7000 [============================>.] - ETA: 0s - loss: 0.2702\n",
      " - val roc auc :  0.865165250322\n",
      "7000/7000 [==============================] - 5s - loss: 0.2706 - val_loss: 0.3627\n",
      "Epoch 32/50\n",
      "6860/7000 [============================>.] - ETA: 0s - loss: 0.2709\n",
      " - val roc auc :  0.878676167912\n",
      "7000/7000 [==============================] - 4s - loss: 0.2702 - val_loss: 0.3284\n",
      "Epoch 33/50\n",
      "6860/7000 [============================>.] - ETA: 0s - loss: 0.2707\n",
      " - val roc auc :  0.890311839662\n",
      "7000/7000 [==============================] - 5s - loss: 0.2701 - val_loss: 0.3118\n",
      "Epoch 34/50\n",
      "6860/7000 [============================>.] - ETA: 0s - loss: 0.2654\n",
      " - val roc auc :  0.875218397534\n",
      "7000/7000 [==============================] - 5s - loss: 0.2658 - val_loss: 0.3414\n",
      "Epoch 35/50\n",
      "6860/7000 [============================>.] - ETA: 0s - loss: 0.2668\n",
      " - val roc auc :  0.891116823242\n",
      "7000/7000 [==============================] - 5s - loss: 0.2661 - val_loss: 0.3148\n",
      "Epoch 00034: early stopping\n",
      "Training for subject: 12\n",
      "Epoch 1/50\n",
      " 700/7000 [==>...........................] - ETA: 6s - loss: 0.8765"
     ]
    },
    {
     "name": "stderr",
     "output_type": "stream",
     "text": [
      "/usr/local/lib/python2.7/dist-packages/keras/callbacks.py:70: UserWarning: Method on_batch_end() is slow compared to the batch update (0.102296). Check your callbacks.\n",
      "  % delta_t_median)\n",
      "/usr/local/lib/python2.7/dist-packages/keras/callbacks.py:70: UserWarning: Method on_batch_end() is slow compared to the batch update (0.105437). Check your callbacks.\n",
      "  % delta_t_median)\n"
     ]
    },
    {
     "name": "stdout",
     "output_type": "stream",
     "text": [
      "6860/7000 [============================>.] - ETA: 0s - loss: 0.6358\n",
      " - val roc auc :  0.714785545189\n",
      "7000/7000 [==============================] - 6s - loss: 0.6336 - val_loss: 0.6925\n",
      "Epoch 2/50\n",
      "6860/7000 [============================>.] - ETA: 0s - loss: 0.4900\n",
      " - val roc auc :  0.747206169057\n",
      "7000/7000 [==============================] - 4s - loss: 0.4888 - val_loss: 0.6135\n",
      "Epoch 3/50\n",
      "6860/7000 [============================>.] - ETA: 0s - loss: 0.4243\n",
      " - val roc auc :  0.80976709372\n",
      "7000/7000 [==============================] - 5s - loss: 0.4240 - val_loss: 0.7096\n",
      "Epoch 4/50\n",
      "6860/7000 [============================>.] - ETA: 0s - loss: 0.3752\n",
      " - val roc auc :  0.775527433505\n",
      "7000/7000 [==============================] - 5s - loss: 0.3746 - val_loss: 0.4303\n",
      "Epoch 5/50\n",
      "6860/7000 [============================>.] - ETA: 0s - loss: 0.3346\n",
      " - val roc auc :  0.721156524161\n",
      "7000/7000 [==============================] - 5s - loss: 0.3347 - val_loss: 0.5231\n",
      "Epoch 6/50\n",
      "6860/7000 [============================>.] - ETA: 0s - loss: 0.3175\n",
      " - val roc auc :  0.805598106113\n",
      "7000/7000 [==============================] - 5s - loss: 0.3178 - val_loss: 0.4510\n",
      "Epoch 7/50\n",
      "6860/7000 [============================>.] - ETA: 0s - loss: 0.3074\n",
      " - val roc auc :  0.827887828993\n",
      "7000/7000 [==============================] - 5s - loss: 0.3078 - val_loss: 0.3976\n",
      "Epoch 8/50\n",
      "6860/7000 [============================>.] - ETA: 0s - loss: 0.3032\n",
      " - val roc auc :  0.789601030497\n",
      "7000/7000 [==============================] - 5s - loss: 0.3032 - val_loss: 0.4779\n",
      "Epoch 9/50\n",
      "6860/7000 [============================>.] - ETA: 0s - loss: 0.2981\n",
      " - val roc auc :  0.834197883303\n",
      "7000/7000 [==============================] - 5s - loss: 0.2995 - val_loss: 0.4058\n",
      "Epoch 10/50\n",
      "6860/7000 [============================>.] - ETA: 0s - loss: 0.3012\n",
      " - val roc auc :  0.831795710904\n",
      "7000/7000 [==============================] - 5s - loss: 0.3013 - val_loss: 0.3969\n",
      "Epoch 11/50\n",
      "6860/7000 [============================>.] - ETA: 0s - loss: 0.2995\n",
      " - val roc auc :  0.80340481827\n",
      "7000/7000 [==============================] - 5s - loss: 0.2994 - val_loss: 0.4238\n",
      "Epoch 12/50\n",
      "6860/7000 [============================>.] - ETA: 0s - loss: 0.2967\n",
      " - val roc auc :  0.787059601727\n",
      "7000/7000 [==============================] - 5s - loss: 0.2967 - val_loss: 0.4859\n",
      "Epoch 13/50\n",
      "6860/7000 [============================>.] - ETA: 0s - loss: 0.2934\n",
      " - val roc auc :  0.789618437544\n",
      "7000/7000 [==============================] - 5s - loss: 0.2935 - val_loss: 0.4883\n",
      "Epoch 14/50\n",
      "6860/7000 [============================>.] - ETA: 0s - loss: 0.2970\n",
      " - val roc auc :  0.837627071439\n",
      "7000/7000 [==============================] - 5s - loss: 0.2960 - val_loss: 0.4210\n",
      "Epoch 15/50\n",
      "6860/7000 [============================>.] - ETA: 0s - loss: 0.2882\n",
      " - val roc auc :  0.817582857541\n",
      "7000/7000 [==============================] - 5s - loss: 0.2889 - val_loss: 0.4436\n",
      "Epoch 16/50\n",
      "6860/7000 [============================>.] - ETA: 0s - loss: 0.2873\n",
      " - val roc auc :  0.816912686255\n",
      "7000/7000 [==============================] - 5s - loss: 0.2877 - val_loss: 0.4190\n",
      "Epoch 17/50\n",
      "6860/7000 [============================>.] - ETA: 0s - loss: 0.2876\n",
      " - val roc auc :  0.823936429467\n",
      "7000/7000 [==============================] - 5s - loss: 0.2877 - val_loss: 0.4093\n",
      "Epoch 18/50\n",
      "6860/7000 [============================>.] - ETA: 0s - loss: 0.2881\n",
      " - val roc auc :  0.789748990391\n",
      "7000/7000 [==============================] - 5s - loss: 0.2884 - val_loss: 0.4692\n",
      "Epoch 19/50\n",
      "6860/7000 [============================>.] - ETA: 0s - loss: 0.2820\n",
      " - val roc auc :  0.833257902799\n",
      "7000/7000 [==============================] - 5s - loss: 0.2818 - val_loss: 0.4029\n",
      "Epoch 20/50\n",
      "6860/7000 [============================>.] - ETA: 0s - loss: 0.2817\n",
      " - val roc auc :  0.824563083136\n",
      "7000/7000 [==============================] - 5s - loss: 0.2819 - val_loss: 0.4233\n",
      "Epoch 21/50\n",
      "6860/7000 [============================>.] - ETA: 0s - loss: 0.2828\n",
      " - val roc auc :  0.819837070046\n",
      "7000/7000 [==============================] - 6s - loss: 0.2823 - val_loss: 0.4205\n",
      "Epoch 22/50\n",
      "6860/7000 [============================>.] - ETA: 0s - loss: 0.2853\n",
      " - val roc auc :  0.830847026876\n",
      "7000/7000 [==============================] - 6s - loss: 0.2850 - val_loss: 0.4144\n",
      "Epoch 23/50\n",
      "6860/7000 [============================>.] - ETA: 0s - loss: 0.2840\n",
      " - val roc auc :  0.82888873416\n",
      "7000/7000 [==============================] - 6s - loss: 0.2838 - val_loss: 0.4114\n",
      "Epoch 24/50\n",
      "6860/7000 [============================>.] - ETA: 0s - loss: 0.2804\n",
      " - val roc auc :  0.820019844033\n",
      "7000/7000 [==============================] - 6s - loss: 0.2800 - val_loss: 0.4159\n",
      "Epoch 25/50\n",
      "6860/7000 [============================>.] - ETA: 0s - loss: 0.2857\n",
      " - val roc auc :  0.808888037878\n",
      "7000/7000 [==============================] - 5s - loss: 0.2858 - val_loss: 0.4358\n",
      "Epoch 00024: early stopping\n"
     ]
    }
   ],
   "source": [
    "models = []\n",
    "for subject in xrange(1,13):\n",
    "    print 'Training for subject:', subject\n",
    "    scaler, model = train(subject, w, subsampling, batch_size)\n",
    "    models.append( {'scaler': scaler, 'model': model} )"
   ]
  },
  {
   "cell_type": "code",
   "execution_count": 13,
   "metadata": {
    "collapsed": true
   },
   "outputs": [],
   "source": [
    "#Make predictions for all subjects\n",
    "def make_predictions( series ):\n",
    "    preds = []\n",
    "    for subject in xrange(1,13):\n",
    "        print 'Predicting for subject:', subject\n",
    "        for serie in series:\n",
    "            print '\\t Predicting for serie:', serie\n",
    "            pred = predict(subject, serie, w, subsampling, models[subject-1]['scaler'], models[subject-1]['model'])\n",
    "            preds.append(pred)\n",
    "    \n",
    "    submission = pd.concat( preds, ignore_index = True )\n",
    "    \n",
    "    str_series = ''\n",
    "    for serie in series: str_series += '_' + str(serie)\n",
    "    submission.to_csv('predictions'+ str_series +'.csv', index = False)"
   ]
  },
  {
   "cell_type": "markdown",
   "metadata": {},
   "source": [
    "* Predict serie 8 (for which we know the truth) for all subject:"
   ]
  },
  {
   "cell_type": "code",
   "execution_count": 14,
   "metadata": {
    "collapsed": false
   },
   "outputs": [
    {
     "name": "stdout",
     "output_type": "stream",
     "text": [
      "Predicting for subject: 1\n",
      "\t Predicting for serie: 8\n",
      "Predicting for subject: 2\n",
      "\t Predicting for serie: 8\n",
      "Predicting for subject: 3\n",
      "\t Predicting for serie: 8\n",
      "Predicting for subject: 4\n",
      "\t Predicting for serie: 8\n",
      "Predicting for subject: 5\n",
      "\t Predicting for serie: 8\n",
      "Predicting for subject: 6\n",
      "\t Predicting for serie: 8\n",
      "Predicting for subject: 7\n",
      "\t Predicting for serie: 8\n",
      "Predicting for subject: 8\n",
      "\t Predicting for serie: 8\n",
      "Predicting for subject: 9\n",
      "\t Predicting for serie: 8\n",
      "Predicting for subject: 10\n",
      "\t Predicting for serie: 8\n",
      "Predicting for subject: 11\n",
      "\t Predicting for serie: 8\n",
      "Predicting for subject: 12\n",
      "\t Predicting for serie: 8\n"
     ]
    }
   ],
   "source": [
    "make_predictions([8])"
   ]
  },
  {
   "cell_type": "markdown",
   "metadata": {},
   "source": [
    "* Make predictions for series 9 and 10:"
   ]
  },
  {
   "cell_type": "code",
   "execution_count": 15,
   "metadata": {
    "collapsed": false
   },
   "outputs": [
    {
     "name": "stdout",
     "output_type": "stream",
     "text": [
      "Predicting for subject: 1\n",
      "\t Predicting for serie: 9\n",
      "\t Predicting for serie: 10\n",
      "Predicting for subject: 2\n",
      "\t Predicting for serie: 9\n",
      "\t Predicting for serie: 10\n",
      "Predicting for subject: 3\n",
      "\t Predicting for serie: 9\n",
      "\t Predicting for serie: 10\n",
      "Predicting for subject: 4\n",
      "\t Predicting for serie: 9\n",
      "\t Predicting for serie: 10\n",
      "Predicting for subject: 5\n",
      "\t Predicting for serie: 9\n",
      "\t Predicting for serie: 10\n",
      "Predicting for subject: 6\n",
      "\t Predicting for serie: 9\n",
      "\t Predicting for serie: 10\n",
      "Predicting for subject: 7\n",
      "\t Predicting for serie: 9\n",
      "\t Predicting for serie: 10\n",
      "Predicting for subject: 8\n",
      "\t Predicting for serie: 9\n",
      "\t Predicting for serie: 10\n",
      "Predicting for subject: 9\n",
      "\t Predicting for serie: 9\n",
      "\t Predicting for serie: 10\n",
      "Predicting for subject: 10\n",
      "\t Predicting for serie: 9\n",
      "\t Predicting for serie: 10\n",
      "Predicting for subject: 11\n",
      "\t Predicting for serie: 9\n",
      "\t Predicting for serie: 10\n",
      "Predicting for subject: 12\n",
      "\t Predicting for serie: 9\n",
      "\t Predicting for serie: 10\n"
     ]
    }
   ],
   "source": [
    "make_predictions([9, 10])"
   ]
  }
 ],
 "metadata": {
  "kernelspec": {
   "display_name": "Python 2",
   "language": "python",
   "name": "python2"
  },
  "language_info": {
   "codemirror_mode": {
    "name": "ipython",
    "version": 2
   },
   "file_extension": ".py",
   "mimetype": "text/x-python",
   "name": "python",
   "nbconvert_exporter": "python",
   "pygments_lexer": "ipython2",
   "version": "2.7.6"
  }
 },
 "nbformat": 4,
 "nbformat_minor": 1
}
